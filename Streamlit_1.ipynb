{
  "cells": [
    {
      "cell_type": "markdown",
      "metadata": {
        "id": "view-in-github",
        "colab_type": "text"
      },
      "source": [
        "<a href=\"https://colab.research.google.com/github/cagBRT/ML-Apps/blob/main/Streamlit_1.ipynb\" target=\"_parent\"><img src=\"https://colab.research.google.com/assets/colab-badge.svg\" alt=\"Open In Colab\"/></a>"
      ]
    },
    {
      "cell_type": "markdown",
      "metadata": {
        "id": "lh33lMDar1nR"
      },
      "source": [
        "This notebook uses Streamlit to create webpages on a localtunnel. <br>\n"
      ]
    },
    {
      "cell_type": "code",
      "source": [
        "# Clone the entire repo.\n",
        "!git clone -l -s https://github.com/cagBRT/Intro-to-Programming-with-Python.git"
      ],
      "metadata": {
        "id": "MPnRnGQDzdup"
      },
      "execution_count": null,
      "outputs": []
    },
    {
      "cell_type": "code",
      "execution_count": null,
      "metadata": {
        "id": "YiQMHaFKxPwV"
      },
      "outputs": [],
      "source": [
        "from IPython.display import Image\n",
        "def page(num):\n",
        "  return Image(\"/content/cloned-repo/images/\"+num+\".png\" , width=640)"
      ]
    },
    {
      "cell_type": "markdown",
      "metadata": {
        "id": "nNTjkODp5RxO"
      },
      "source": [
        "To be able develop and view a website on your computer is important. <br>\n",
        "We can do this using a Python library called Streamlit. <br>\n",
        "The steps we will follow are:<br>\n",
        "1. Import the Streamlit library<br>\n",
        "2. Write Python code to render your page.\n",
        "3. Run the website on your computer. \n",
        "4. To view your webpage locally, create a localtunnel. This will give you a unique URL to view the webpage. \n",
        "5. Go to the URL and interact with the webpage."
      ]
    },
    {
      "cell_type": "code",
      "execution_count": null,
      "metadata": {
        "id": "2JqiBZeBxV78"
      },
      "outputs": [],
      "source": [
        "page(\"steps\")"
      ]
    },
    {
      "cell_type": "markdown",
      "metadata": {
        "id": "dPun6RLF6diz"
      },
      "source": [
        "A localtunnel serves your webpage. Your computer runs the web app that you created. <br>\n",
        "A localtunnel will allow you to interact with your web app as if it were a public website. <br>\n",
        "It should not interfere with your DNS or firewall settings. <br><br>\n",
        "**If you are running on a Deere computer, you should be able to see your web app, but it is quite possible Deere firewall will stop others from accessing it.**"
      ]
    },
    {
      "cell_type": "code",
      "execution_count": null,
      "metadata": {
        "id": "lNt7eCFr5IyL"
      },
      "outputs": [],
      "source": [
        "page(\"localtunnel\")"
      ]
    },
    {
      "cell_type": "markdown",
      "metadata": {
        "id": "n8By_LP5-sT7"
      },
      "source": [
        "What is happening on your computer when you request to view the URL. <br><br>\n",
        "\n",
        "For example: URL: https://busy-carrots-own-35-245-90-0.loca.lt"
      ]
    },
    {
      "cell_type": "code",
      "execution_count": null,
      "metadata": {
        "id": "gNxwpfTf5MEG"
      },
      "outputs": [],
      "source": [
        "page(\"Your localtunnel\")"
      ]
    },
    {
      "cell_type": "markdown",
      "metadata": {
        "id": "bF4e2jTzdRCA"
      },
      "source": [
        "https://colab.research.google.com/github/mrm8488/shared_colab_notebooks/blob/master/Create_streamlit_app.ipynb#scrollTo=XTGAizLhOIgC"
      ]
    },
    {
      "cell_type": "markdown",
      "metadata": {
        "id": "LAv-CsTmptAb"
      },
      "source": [
        "https://docs.streamlit.io/library/api-reference"
      ]
    },
    {
      "cell_type": "code",
      "execution_count": null,
      "metadata": {
        "id": "C6SsRIY_LOef"
      },
      "outputs": [],
      "source": [
        "!pip install --upgrade streamlit -q"
      ]
    },
    {
      "cell_type": "code",
      "source": [
        "!pip install jedi>=0.10"
      ],
      "metadata": {
        "id": "dIcUU0F0m00g"
      },
      "execution_count": null,
      "outputs": []
    },
    {
      "cell_type": "code",
      "execution_count": null,
      "metadata": {
        "id": "FqS-9FauLDZg"
      },
      "outputs": [],
      "source": [
        "!npm install localtunnel"
      ]
    },
    {
      "cell_type": "markdown",
      "metadata": {
        "id": "1vzrSrhHw_qz"
      },
      "source": [
        "# **Using Streamlit**"
      ]
    },
    {
      "cell_type": "markdown",
      "metadata": {
        "id": "Qid4HiqZvOT7"
      },
      "source": [
        "\n",
        "\n",
        "---\n",
        "\n"
      ]
    },
    {
      "cell_type": "markdown",
      "metadata": {
        "id": "i6lnxTE7xf_Q"
      },
      "source": [
        "# Example of a Basic Page<br>\n",
        "Adding a title to the page"
      ]
    },
    {
      "cell_type": "markdown",
      "metadata": {
        "id": "irVokOv2sn5Z"
      },
      "source": [
        "1. Write code to create the page. <br>\n",
        "This is a simple page, all it has is a title."
      ]
    },
    {
      "cell_type": "code",
      "execution_count": null,
      "metadata": {
        "id": "MplLvfqspHpb"
      },
      "outputs": [],
      "source": [
        "#below is the name of the app that creates the page\n",
        "%%writefile app2.py\n",
        "\n",
        "#The import statement must be in the same code cell as the app\n",
        "import streamlit as st\n",
        "\n",
        "# Title of the web page\n",
        "nameString = \"Welcome to Streamlit\" \n",
        "st.title(nameString)"
      ]
    },
    {
      "cell_type": "markdown",
      "metadata": {
        "id": "C8iUCjaKszbA"
      },
      "source": [
        "2. Run the app you created. <br>\n",
        "The following code will run your app."
      ]
    },
    {
      "cell_type": "code",
      "execution_count": null,
      "metadata": {
        "id": "zaf-iBRgpXCB"
      },
      "outputs": [],
      "source": [
        "!streamlit run /content/app2.py &>/content/logs.txt &"
      ]
    },
    {
      "cell_type": "markdown",
      "metadata": {
        "id": "u9vgw-rMtJuN"
      },
      "source": [
        "3. Run your page on your machine using a localtunnel. <br>\n",
        "We are using port 8501 on your computer. <br>\n",
        "The odds are good you do not have anything else running on this port. "
      ]
    },
    {
      "cell_type": "markdown",
      "metadata": {
        "id": "SELB-1Rt_WQf"
      },
      "source": [
        "NPX is part of the Node Package Manager (NPM)<br>\n",
        "It is an npm package runner that can execute any package that you want from the npm registry without even installing that package. "
      ]
    },
    {
      "cell_type": "code",
      "execution_count": null,
      "metadata": {
        "id": "fjs3DgWIpZlc"
      },
      "outputs": [],
      "source": [
        "!npx localtunnel --port 8501"
      ]
    },
    {
      "cell_type": "markdown",
      "metadata": {
        "id": "Jz7Qkp2RuERL"
      },
      "source": [
        "4. A URL is created. Click on this URL to go to your webpage.<br>\n",
        "Notice it creates a secure https for all localtunnels. \n"
      ]
    },
    {
      "cell_type": "markdown",
      "metadata": {
        "id": "GadAsieTpJcv"
      },
      "source": [
        "**Assignment 1:**<br>\n",
        "Change the title of the page and view it using the localtunnel."
      ]
    }
  ],
  "metadata": {
    "colab": {
      "private_outputs": true,
      "provenance": [],
      "include_colab_link": true
    },
    "kernelspec": {
      "display_name": "Python 3",
      "language": "python",
      "name": "python3"
    },
    "language_info": {
      "name": "python",
      "version": "3.9.5 (tags/v3.9.5:0a7dcbd, May  3 2021, 17:27:52) [MSC v.1928 64 bit (AMD64)]"
    },
    "vscode": {
      "interpreter": {
        "hash": "13ebf2d7165bdaaaadd33277baba9a9edf5524f3e87d2594fd9f1678110b4063"
      }
    }
  },
  "nbformat": 4,
  "nbformat_minor": 0
}