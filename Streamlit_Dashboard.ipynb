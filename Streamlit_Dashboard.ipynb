{
  "nbformat": 4,
  "nbformat_minor": 0,
  "metadata": {
    "colab": {
      "private_outputs": true,
      "provenance": [],
      "authorship_tag": "ABX9TyM5EpaSG6wyeCUo6DHMdzjh",
      "include_colab_link": true
    },
    "kernelspec": {
      "name": "python3",
      "display_name": "Python 3"
    },
    "language_info": {
      "name": "python"
    }
  },
  "cells": [
    {
      "cell_type": "markdown",
      "metadata": {
        "id": "view-in-github",
        "colab_type": "text"
      },
      "source": [
        "<a href=\"https://colab.research.google.com/github/cagBRT/ML-Apps/blob/main/Streamlit_Dashboard.ipynb\" target=\"_parent\"><img src=\"https://colab.research.google.com/assets/colab-badge.svg\" alt=\"Open In Colab\"/></a>"
      ]
    },
    {
      "cell_type": "markdown",
      "source": [
        "This notebook demonstrates slider bars. <br>\n",
        "There are three slider bars on the webpage. <br>\n",
        "The user moves the slider bars and the newly entered values are plotted below the bars. "
      ],
      "metadata": {
        "id": "CuGXKpDLUzoX"
      }
    },
    {
      "cell_type": "code",
      "source": [
        "# Clone the entire repo.\n",
        "!git clone -l -s https://github.com/cagBRT/Intro-to-Programming-with-Python.git"
      ],
      "metadata": {
        "id": "MPnRnGQDzdup"
      },
      "execution_count": null,
      "outputs": []
    },
    {
      "cell_type": "code",
      "source": [
        "!pip install --upgrade streamlit -q"
      ],
      "metadata": {
        "id": "C6SsRIY_LOef"
      },
      "execution_count": null,
      "outputs": []
    },
    {
      "cell_type": "code",
      "execution_count": null,
      "metadata": {
        "id": "FqS-9FauLDZg"
      },
      "outputs": [],
      "source": [
        "!npm install localtunnel"
      ]
    },
    {
      "cell_type": "code",
      "source": [
        "%%writefile app6.py\n",
        "#importing matplotlib for plotting\n",
        "\n",
        "# my_dashboard.py\n",
        "import numpy as np\n",
        "from scipy.stats import norm\n",
        "import matplotlib.pyplot as plt\n",
        "import streamlit as st\n",
        "\n",
        "st.title('Normal distribution')\n",
        "\n",
        "mu_in = st.slider('Mean', value=5, min_value=-10, max_value=10)\n",
        "std_in = st.slider('Standard deviation', value=5.0, min_value=0.0, max_value=10.0)\n",
        "size = st.slider('Number of samples', value=100, max_value=500)\n",
        "\n",
        "def norm_dist(mu, std, size=100):\n",
        "\t\"\"\"Generate normal distribution.\"\"\"\n",
        "\treturn norm.rvs(mu, std, size=size)\n",
        "\n",
        "data = norm_dist(mu_in, std_in, size=size)\n",
        "\n",
        "# Fit the normal distribution\n",
        "mu, std = norm.fit(data)\n",
        "\n",
        "# Make some plots\n",
        "x = np.linspace(-40, 40, 100)\n",
        "y = norm.pdf(x, mu, std)\n",
        "\n",
        "title = f\"Fit results: {mu=:.2f},  {std=:.2f}\"\n",
        "\n",
        "fig, ax = plt.subplots()\n",
        "ax.hist(data, bins=50, density=True)\n",
        "ax.plot(x, y, 'k', linewidth=2)\n",
        "ax.set_title(title)\n",
        "\n",
        "st.pyplot(fig)"
      ],
      "metadata": {
        "id": "tJj8EfCb0mLX"
      },
      "execution_count": null,
      "outputs": []
    },
    {
      "cell_type": "code",
      "source": [
        "!streamlit run /content/app6.py &>/content/logs.txt &"
      ],
      "metadata": {
        "id": "fEI7KZKANOoV"
      },
      "execution_count": null,
      "outputs": []
    },
    {
      "cell_type": "code",
      "source": [
        "!npx localtunnel --port 8501"
      ],
      "metadata": {
        "id": "9Et2tCe8NS77"
      },
      "execution_count": null,
      "outputs": []
    },
    {
      "cell_type": "markdown",
      "source": [
        "**Assignment 1**<br>\n",
        "Change the plot to a different color using Matplotlib commands. <br>\n"
      ],
      "metadata": {
        "id": "67h2x6ruVm-w"
      }
    },
    {
      "cell_type": "markdown",
      "source": [
        "**Assignment 2**<br>\n",
        "Import a different plotting library, for example import seaborn<br>\n",
        "\n",
        "You can check out how to use Seaborn [here](https://github.com/cagBRT/Intro-to-Programming-with-Python/blob/master/C_11_Intro_to_Python.ipynb)"
      ],
      "metadata": {
        "id": "L6nSMH5lVsl4"
      }
    }
  ]
}