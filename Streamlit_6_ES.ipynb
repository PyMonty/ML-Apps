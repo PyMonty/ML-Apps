{
  "cells": [
    {
      "attachments": {},
      "cell_type": "markdown",
      "metadata": {
        "colab_type": "text",
        "id": "view-in-github"
      },
      "source": [
        "<a href=\"https://colab.research.google.com/github/cagBRT/ML-Apps/blob/main/Streamlit_6_ES.ipynb\" target=\"_parent\"><img src=\"https://colab.research.google.com/assets/colab-badge.svg\" alt=\"Abrir en Colab\"/></a>"
      ]
    },
    {
      "cell_type": "markdown",
      "metadata": {
        "id": "xdUvbtpKxcRc"
      },
      "source": [
        "En este notebook trabajarás con contenedores de diseño.<br>\n",
        "Los contenedores de diseño hacen que sea un poco más fácil organizar las páginas de tus aplicaciones.<br>\n",
        "También hacen que tu página sea más receptiva a los cambios en el tamaño de la pantalla. Por ejemplo, el uso de contenedores hace que sea más fácil para tu aplicación mostrarla en un teléfono celular, así como en una computadora portátil o de escritorio. \n"
      ]
    },
    {
      "cell_type": "code",
      "execution_count": null,
      "metadata": {
        "id": "CSX1pmLXAULf"
      },
      "outputs": [],
      "source": [
        "# Clona todo el repositorio.\n",
        "!git clone -l -s https://github.com/cagBRT/ML-Apps.git"
      ]
    },
    {
      "cell_type": "markdown",
      "metadata": {
        "id": "kPSiT_GNyPkC"
      },
      "source": [
        "https://blog.streamlit.io/introducing-new-layout-options-for-streamlit/"
      ]
    },
    {
      "cell_type": "code",
      "execution_count": null,
      "metadata": {
        "id": "C6SsRIY_LOef"
      },
      "outputs": [],
      "source": [
        "!pip install --upgrade streamlit -q"
      ]
    },
    {
      "cell_type": "code",
      "execution_count": null,
      "metadata": {
        "id": "dIcUU0F0m00g"
      },
      "outputs": [],
      "source": [
        "!pip install jedi>=0.10"
      ]
    },
    {
      "cell_type": "code",
      "execution_count": null,
      "metadata": {
        "id": "FqS-9FauLDZg"
      },
      "outputs": [],
      "source": [
        "!npm install localtunnel"
      ]
    },
    {
      "cell_type": "code",
      "execution_count": null,
      "metadata": {
        "id": "xm9eU1nkNDg1"
      },
      "outputs": [],
      "source": [
        "%%writefile app6.py\n",
        "import streamlit as st\n",
        "import pandas as pd\n",
        "import numpy as np\n",
        "import altair as alt\n",
        "\n",
        "# Título de la página web\n",
        "nameString = \"Diseños y contenedores\" \n",
        "st.title(nameString)\n",
        "\n",
        "col1, col2, col3 = st.columns(3)\n",
        "\n",
        "with col1:\n",
        "   st.header(\"Un gato\")\n",
        "   st.image(\"https://static.streamlit.io/examples/cat.jpg\")\n",
        "   col1_name = \"Me encantan los gatos\" \n",
        "   st.text(col1_name)\n",
        "\n",
        "with col2:\n",
        "   st.header(\"Un perro\")\n",
        "   st.image(\"https://static.streamlit.io/examples/dog.jpg\")\n",
        "   col2_name = \"Me encantan los perros\" \n",
        "   st.text(col2_name)\n",
        "with col3:\n",
        "   st.header(\"Un búho\")\n",
        "   st.image(\"https://static.streamlit.io/examples/owl.jpg\")\n",
        "   col3_name = \"Me encantan los búhos\" \n",
        "   st.text(col3_name)"
      ]
    },
    {
      "cell_type": "code",
      "execution_count": null,
      "metadata": {
        "id": "fEI7KZKANOoV"
      },
      "outputs": [],
      "source": [
        "!streamlit run /content/app6.py &>/content/logs.txt &"
      ]
    },
    {
      "cell_type": "code",
      "execution_count": null,
      "metadata": {
        "id": "9Et2tCe8NS77"
      },
      "outputs": [],
      "source": [
        "!npx localtunnel --port 8501"
      ]
    },
    {
      "cell_type": "markdown",
      "metadata": {
        "id": "iKnOwRYtxM7i"
      },
      "source": [
        "**Asignación**<br>\n",
        "Crea una aplicación con 4 columnas sobre aprendizaje automático. <br>\n",
        "Incluye una imagen y algún texto en cada columna."
      ]
    }
  ],
  "metadata": {
    "colab": {
      "authorship_tag": "ABX9TyOXJ9/nKzlgoNWNvF+ru6Ie",
      "include_colab_link": true,
      "private_outputs": true,
      "provenance": []
    },
    "kernelspec": {
      "display_name": "Python 3",
      "name": "python3"
    },
    "language_info": {
      "name": "python"
    }
  },
  "nbformat": 4,
  "nbformat_minor": 0
}
