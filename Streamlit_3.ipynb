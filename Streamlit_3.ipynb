{
  "nbformat": 4,
  "nbformat_minor": 0,
  "metadata": {
    "colab": {
      "private_outputs": true,
      "provenance": [],
      "authorship_tag": "ABX9TyOagHK/QUSsc6ShGZdb+XP5",
      "include_colab_link": true
    },
    "kernelspec": {
      "name": "python3",
      "display_name": "Python 3"
    },
    "language_info": {
      "name": "python"
    }
  },
  "cells": [
    {
      "cell_type": "markdown",
      "metadata": {
        "id": "view-in-github",
        "colab_type": "text"
      },
      "source": [
        "<a href=\"https://colab.research.google.com/github/cagBRT/ML-Apps/blob/main/Streamlit_3.ipynb\" target=\"_parent\"><img src=\"https://colab.research.google.com/assets/colab-badge.svg\" alt=\"Open In Colab\"/></a>"
      ]
    },
    {
      "cell_type": "markdown",
      "source": [
        "This notebook creates a BMI calculator using Streamlit. <br>\n",
        "The app asks the user for information, calculates their BMI, and tells the user the health category."
      ],
      "metadata": {
        "id": "l5kr8shUITSx"
      }
    },
    {
      "cell_type": "markdown",
      "source": [
        "This notebook is created using Google Colab, to use this notebook successfully in DataBricks may require some modification. "
      ],
      "metadata": {
        "id": "Uj4Kc99wJRYB"
      }
    },
    {
      "cell_type": "code",
      "source": [
        "# Clone the entire repo.\n",
        "!git clone -l -s https://github.com/cagBRT/ML-Apps.git cloned-repo\n",
        "%cd cloned-repo"
      ],
      "metadata": {
        "id": "MPnRnGQDzdup"
      },
      "execution_count": null,
      "outputs": []
    },
    {
      "cell_type": "code",
      "source": [
        "from IPython.display import Image\n",
        "def page(num):\n",
        "  return Image(\"/content/cloned-repo/images/\"+num+\".png\" , width=640)"
      ],
      "metadata": {
        "id": "Dn0I5z1Uhvjo"
      },
      "execution_count": null,
      "outputs": []
    },
    {
      "cell_type": "markdown",
      "source": [
        "[Streamlit API Reference](https://docs.streamlit.io/library/api-reference)\n"
      ],
      "metadata": {
        "id": "LAv-CsTmptAb"
      }
    },
    {
      "cell_type": "markdown",
      "source": [
        "Install the streamlit library and local tunnel."
      ],
      "metadata": {
        "id": "qlDaWzfQJMtm"
      }
    },
    {
      "cell_type": "code",
      "source": [
        "!pip install --upgrade streamlit -q"
      ],
      "metadata": {
        "id": "C6SsRIY_LOef"
      },
      "execution_count": null,
      "outputs": []
    },
    {
      "cell_type": "code",
      "source": [
        "!pip install jedi>=0.10"
      ],
      "metadata": {
        "id": "dIcUU0F0m00g"
      },
      "execution_count": null,
      "outputs": []
    },
    {
      "cell_type": "code",
      "execution_count": null,
      "metadata": {
        "id": "FqS-9FauLDZg"
      },
      "outputs": [],
      "source": [
        "!npm install localtunnel"
      ]
    },
    {
      "cell_type": "markdown",
      "source": [
        "# Create a BMI Calculator"
      ],
      "metadata": {
        "id": "5hvXhAx1xZPY"
      }
    },
    {
      "cell_type": "code",
      "source": [
        "%%writefile app2.py\n",
        "#The import statement must be in the same code cell as the app\n",
        "import streamlit as st\n",
        "import pandas as pd\n",
        "\n",
        "#==============\n",
        "#Example\n",
        "#==============\n",
        "# give a title to our app\n",
        "st.title('Welcome to BMI Calculator')\n",
        "\n",
        "# TAKE WEIGHT INPUT in kgs\n",
        "weight = st.number_input(\"Enter your weight (in kgs)\")\n",
        "\n",
        "# TAKE HEIGHT INPUT\n",
        "# radio button to choose height format\n",
        "status = st.radio('Select your height format: ',\n",
        "\t\t\t\t('cms', 'meters', 'feet'))\n",
        "\n",
        "# compare status value\n",
        "if(status == 'cms'):\n",
        "\t# take height input in centimeters\n",
        "\theight = st.number_input('Centimeters')\n",
        "\n",
        "\ttry:\n",
        "\t\tbmi = weight / ((height/100)**2)\n",
        "\texcept:\n",
        "\t\tst.text(\"Enter some value of height\")\n",
        "\n",
        "elif(status == 'meters'):\n",
        "\t# take height input in meters\n",
        "\theight = st.number_input('Meters')\n",
        "\n",
        "\ttry:\n",
        "\t\tbmi = weight / (height ** 2)\n",
        "\texcept:\n",
        "\t\tst.text(\"Enter some value of height\")\n",
        "\n",
        "else:\n",
        "\t# take height input in feet\n",
        "\theight = st.number_input('Feet')\n",
        "\n",
        "\t# 1 meter = 3.28\n",
        "\ttry:\n",
        "\t\tbmi = weight / (((height/3.28))**2)\n",
        "\texcept:\n",
        "\t\tst.text(\"Enter some value of height\")\n",
        "\n",
        "# check if the button is pressed or not\n",
        "if(st.button('Calculate BMI')):\n",
        "\n",
        "\t# print the BMI INDEX\n",
        "\tst.text(\"Your BMI Index is {}.\".format(bmi))\n",
        "\n",
        "\t# give the interpretation of BMI index\n",
        "\tif(bmi < 16):\n",
        "\t\tst.error(\"You are Extremely Underweight\")\n",
        "\telif(bmi >= 16 and bmi < 18.5):\n",
        "\t\tst.warning(\"You are Underweight\")\n",
        "\telif(bmi >= 18.5 and bmi < 25):\n",
        "\t\tst.success(\"Healthy\")\n",
        "\telif(bmi >= 25 and bmi < 30):\n",
        "\t\tst.warning(\"Overweight\")\n",
        "\telif(bmi >= 30):\n",
        "\t\tst.error(\"Extremely Overweight\")"
      ],
      "metadata": {
        "id": "_RlQWW42dN08"
      },
      "execution_count": null,
      "outputs": []
    },
    {
      "cell_type": "markdown",
      "source": [
        "Notice we are running app2.py<br>\n",
        "This is the name we gave the app at the start of the above code cell. "
      ],
      "metadata": {
        "id": "4fmCewMJJdeH"
      }
    },
    {
      "cell_type": "code",
      "source": [
        "#This command creates a logs.txt file\n",
        "#You can see it in the menu on the right\n",
        "!streamlit run app2.py &>/content/logs.txt &"
      ],
      "metadata": {
        "id": "IoBq5w9fxOZH"
      },
      "execution_count": null,
      "outputs": []
    },
    {
      "cell_type": "code",
      "source": [
        "!npx localtunnel --port 8501"
      ],
      "metadata": {
        "id": "i18duG9WxSMn"
      },
      "execution_count": null,
      "outputs": []
    },
    {
      "cell_type": "markdown",
      "source": [
        "**Assignment 1**<br>\n",
        "Create an app called app3<br>\n",
        "The app should do the following:\n",
        "1. ask the user for their name\n",
        "2. ask for the user's rent\n",
        "3. ask for the user's salary\n",
        "4. if the rent/salary < .30 user is okay\n",
        "5. .31< if the rent/salary <.5 user needs to be cautious.\n",
        "6. if the rent/salary > .5 user is in trouble\n",
        "7. tell the user their status"
      ],
      "metadata": {
        "id": "O1QcK640jlmR"
      }
    }
  ]
}