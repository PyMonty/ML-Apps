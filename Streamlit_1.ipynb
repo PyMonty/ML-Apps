{
  "nbformat": 4,
  "nbformat_minor": 0,
  "metadata": {
    "colab": {
      "private_outputs": true,
      "provenance": [],
      "authorship_tag": "ABX9TyMAnB0AL+UtGB2XYxDuwyec",
      "include_colab_link": true
    },
    "kernelspec": {
      "name": "python3",
      "display_name": "Python 3"
    },
    "language_info": {
      "name": "python"
    }
  },
  "cells": [
    {
      "cell_type": "markdown",
      "metadata": {
        "id": "view-in-github",
        "colab_type": "text"
      },
      "source": [
        "<a href=\"https://colab.research.google.com/github/cagBRT/ML-Apps/blob/main/Streamlit_1.ipynb\" target=\"_parent\"><img src=\"https://colab.research.google.com/assets/colab-badge.svg\" alt=\"Open In Colab\"/></a>"
      ]
    },
    {
      "cell_type": "code",
      "source": [
        "# Clone the entire repo.\n",
        "!git clone -l -s https://github.com/cagBRT/Intro-to-Programming-with-Python.git"
      ],
      "metadata": {
        "id": "MPnRnGQDzdup"
      },
      "execution_count": null,
      "outputs": []
    },
    {
      "cell_type": "markdown",
      "source": [
        "https://colab.research.google.com/github/mrm8488/shared_colab_notebooks/blob/master/Create_streamlit_app.ipynb#scrollTo=XTGAizLhOIgC"
      ],
      "metadata": {
        "id": "bF4e2jTzdRCA"
      }
    },
    {
      "cell_type": "markdown",
      "source": [
        "https://docs.streamlit.io/library/api-reference"
      ],
      "metadata": {
        "id": "LAv-CsTmptAb"
      }
    },
    {
      "cell_type": "code",
      "source": [
        "!pip install --upgrade streamlit -q"
      ],
      "metadata": {
        "id": "C6SsRIY_LOef"
      },
      "execution_count": null,
      "outputs": []
    },
    {
      "cell_type": "code",
      "execution_count": null,
      "metadata": {
        "id": "FqS-9FauLDZg"
      },
      "outputs": [],
      "source": [
        "!npm install localtunnel"
      ]
    },
    {
      "cell_type": "markdown",
      "source": [
        "# Example of Basic Page"
      ],
      "metadata": {
        "id": "i6lnxTE7xf_Q"
      }
    },
    {
      "cell_type": "code",
      "source": [
        "%%writefile app.py\n",
        "#The import statement must be in the same code cell as the app\n",
        "import streamlit as st\n",
        "import pandas as pd\n",
        "import numpy as np\n",
        "import altair as alt\n",
        "\n",
        "#Upload some data from a file\n",
        "california_housing_dataframe = pd.read_csv(\"https://download.mlcc.google.com/mledu-datasets/california_housing_train.csv\", sep=\",\")\n",
        "\n",
        "# Title of the web page\n",
        "nameString = \"Welcome to Streamlit\" \n",
        "st.title(nameString)"
      ],
      "metadata": {
        "id": "MplLvfqspHpb"
      },
      "execution_count": null,
      "outputs": []
    },
    {
      "cell_type": "code",
      "source": [
        "!streamlit run /content/app.py &>/content/logs.txt &"
      ],
      "metadata": {
        "id": "zaf-iBRgpXCB"
      },
      "execution_count": null,
      "outputs": []
    },
    {
      "cell_type": "code",
      "source": [
        "!npx localtunnel --port 8501"
      ],
      "metadata": {
        "id": "fjs3DgWIpZlc"
      },
      "execution_count": null,
      "outputs": []
    },
    {
      "cell_type": "markdown",
      "source": [
        "**Assignment 1:**<br>\n",
        "Change the title of the page"
      ],
      "metadata": {
        "id": "GadAsieTpJcv"
      }
    },
    {
      "cell_type": "markdown",
      "source": [
        "# Examples of Streamlit Commands"
      ],
      "metadata": {
        "id": "_3R1zy_2p1hT"
      }
    },
    {
      "cell_type": "code",
      "source": [
        "%%writefile app.py"
      ],
      "metadata": {
        "id": "ZWsELQ1Mppft"
      },
      "execution_count": null,
      "outputs": []
    },
    {
      "cell_type": "code",
      "source": [
        "!streamlit run /content/app.py &>/content/logs.txt &"
      ],
      "metadata": {
        "id": "PH8XEjnhptYN"
      },
      "execution_count": null,
      "outputs": []
    },
    {
      "cell_type": "code",
      "source": [
        "!npx localtunnel --port 8501"
      ],
      "metadata": {
        "id": "ZoudwYBrptiE"
      },
      "execution_count": null,
      "outputs": []
    },
    {
      "cell_type": "code",
      "source": [
        "%%writefile app.py\n",
        "#The import statement must be in the same code cell as the app\n",
        "import streamlit as st\n",
        "import pandas as pd\n",
        "import numpy as np\n",
        "import altair as alt\n",
        "\n",
        "#Upload some data from a file\n",
        "california_housing_dataframe = pd.read_csv(\"https://download.mlcc.google.com/mledu-datasets/california_housing_train.csv\", sep=\",\")\n",
        "\n",
        "# Title of the web page\n",
        "nameString = \"Welcome to Streamlit\" \n",
        "st.title(nameString)\n",
        "\n",
        "# Text Input\n",
        "# save the input text in the variable 'name'\n",
        "# first argument shows the title of the text input box\n",
        "# second argument displays a default text inside the text input area\n",
        "name = st.text_input(\"Enter Your name\", \"Type Here ...\")\n",
        " \n",
        "# Number Input\n",
        "# save the input number in the variable 'number'\n",
        "# first argument shows the title of the text input box\n",
        "number = st.number_input(\"Enter Your number\")\n",
        "\n",
        "# display the name when the submit button is clicked\n",
        "# .title() is used to get the input text string\n",
        "if(st.button('Submit')):\n",
        "    result = name.title()\n",
        "    nameString=\"Hello, \" + name\n",
        "    numberString=\"Your number is \" + str(number)\n",
        "    st.success(nameString)\n",
        "    st.success(number)\n",
        "\n",
        "x = st.slider('Select a value')\n",
        "st.write(x, 'squared is', x * x)\n",
        "# Markdown\n",
        "st.markdown(\"### This is a markdown\")\n",
        "#success\n",
        "st.success(\"Success\")\n",
        " \n",
        "# success\n",
        "st.info(\"Information\")\n",
        " \n",
        "# success\n",
        "st.warning(\"Warning\")\n",
        " \n",
        "# success\n",
        "st.error(\"Error\")\n",
        "\n",
        "# Write text\n",
        "st.write(\"Text with write\")\n",
        " \n",
        "# Writing python inbuilt function range()\n",
        "st.write(range(10))\n",
        "\n",
        "# checkbox\n",
        "# check if the checkbox is checked\n",
        "# title of the checkbox is 'Show/Hide'\n",
        "if st.checkbox(\"Show/Hide\"):\n",
        " \n",
        "    # display the text if the checkbox returns True value\n",
        "    st.text(\"Showing the widget\")\n",
        "\n",
        "# multi select box\n",
        " \n",
        "# first argument takes the box title\n",
        "# second argument takes the options to show\n",
        "hobbies = st.multiselect(\"Hobbies: \",\n",
        "                         ['Dancing', 'Reading', 'Sports'])\n",
        " \n",
        "# write the selected options\n",
        "st.write(\"You selected\", len(hobbies), 'hobbies')\n",
        "\n",
        "st.write('Hello, *World!* :sunglasses:')\n",
        "\n",
        "dataframe=pd.DataFrame({\n",
        "    'first column': [1, 2, 3, 4],\n",
        "    'second column': [10, 20, 30, 40],\n",
        "})\n",
        "st.write(1234)\n",
        "st.write(pd.DataFrame({\n",
        "    'first column': [1, 2, 3, 4],\n",
        "    'second column': [10, 20, 30, 40],\n",
        "}))\n",
        "\n",
        "st.write('1 + 1 = ', 2)\n",
        "st.write('Below is the california_housing_dataframe:', california_housing_dataframe,\n",
        " 'Above is the california_housing_dataframe')\n",
        "\n",
        "\n",
        "\n",
        "df = pd.DataFrame(\n",
        "    np.random.randn(200, 3),\n",
        "    columns=['a', 'b', 'c'])\n",
        "\n",
        "c = alt.Chart(df).mark_circle().encode(\n",
        "    x='a', y='b', size='c', color='c', tooltip=['a', 'b', 'c'])\n",
        "\n",
        "st.write(c)\n",
        "\n",
        "uploaded_file = st.file_uploader(\"Choose a file\")\n",
        "if uploaded_file is not None:\n",
        "    # To read file as bytes:\n",
        "    bytes_data = uploaded_file.getvalue()\n",
        "    st.write(bytes_data)\n",
        "\n",
        "    # To convert to a string based IO:\n",
        "    stringio = StringIO(uploaded_file.getvalue().decode(\"utf-8\"))\n",
        "    st.write(stringio)\n",
        "\n",
        "    # To read file as string:\n",
        "    string_data = stringio.read()\n",
        "    st.write(string_data)\n",
        "\n",
        "    # Can be used wherever a \"file-like\" object is accepted:\n",
        "    dataframe = pd.read_csv(uploaded_file)\n",
        "    st.write(dataframe)\n",
        "\n"
      ],
      "metadata": {
        "id": "kmt2Eq6gbIJK"
      },
      "execution_count": null,
      "outputs": []
    },
    {
      "cell_type": "code",
      "source": [
        "!streamlit run /content/app.py &>/content/logs.txt &"
      ],
      "metadata": {
        "id": "T68VrSbMLVMv"
      },
      "execution_count": null,
      "outputs": []
    },
    {
      "cell_type": "code",
      "source": [
        "!npx localtunnel --port 8501"
      ],
      "metadata": {
        "id": "uCOKbfiQL6HQ"
      },
      "execution_count": null,
      "outputs": []
    },
    {
      "cell_type": "markdown",
      "source": [
        "**Assignment 1:**<br>\n",
        "Create a webpage to gather data from a user. <br>\n",
        "The page should have:<br>\n",
        "1. A title\n",
        "2. At least one text input box\n",
        "3. At least one number input box\n",
        "4. A selection from a radio button\n",
        "5. A selection from a check button\n",
        "6. At least one drop down menu\n",
        "7. A submit button\n",
        "\n",
        "After getting information from the user, post it back on the page for the user to read\n"
      ],
      "metadata": {
        "id": "8MUpkMdlkHF5"
      }
    },
    {
      "cell_type": "code",
      "source": [
        "%%writefile app2.py\n",
        "#Put your assignment code here"
      ],
      "metadata": {
        "id": "7BwMIKWRlVY6"
      },
      "execution_count": null,
      "outputs": []
    },
    {
      "cell_type": "code",
      "source": [
        "!streamlit run /content/app2.py &>/content/logs.txt &"
      ],
      "metadata": {
        "id": "KjyIaX_jlWxL"
      },
      "execution_count": null,
      "outputs": []
    },
    {
      "cell_type": "code",
      "source": [
        "!npx localtunnel --port 8501"
      ],
      "metadata": {
        "id": "HS30tV-zlbyA"
      },
      "execution_count": null,
      "outputs": []
    }
  ]
}