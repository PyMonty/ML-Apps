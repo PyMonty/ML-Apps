{
  "cells": [
    {
      "cell_type": "markdown",
      "metadata": {
        "id": "view-in-github",
        "colab_type": "text"
      },
      "source": [
        "<a href=\"https://colab.research.google.com/github/cagBRT/ML-Apps/blob/main/Streamlit_2.ipynb\" target=\"_parent\"><img src=\"https://colab.research.google.com/assets/colab-badge.svg\" alt=\"Open In Colab\"/></a>"
      ]
    },
    {
      "cell_type": "markdown",
      "metadata": {
        "id": "_CpBa-UouW_f"
      },
      "source": [
        "# **Adding interactive elements to the page**"
      ]
    },
    {
      "cell_type": "code",
      "execution_count": null,
      "metadata": {
        "id": "MPnRnGQDzdup"
      },
      "outputs": [],
      "source": [
        "# Clone the entire repo.\n",
        "!git clone -l -s https://github.com/cagBRT/ML-Apps.git cloned-repo\n",
        "%cd cloned-repo"
      ]
    },
    {
      "cell_type": "code",
      "execution_count": null,
      "metadata": {
        "id": "ZW11LqMn0wfd"
      },
      "outputs": [],
      "source": [
        "from IPython.display import Image\n",
        "def page(num):\n",
        "  return Image(\"/content/cloned-repo/images/\"+num+\".png\" , width=640)"
      ]
    },
    {
      "cell_type": "markdown",
      "metadata": {
        "id": "bF4e2jTzdRCA"
      },
      "source": [
        "https://colab.research.google.com/github/mrm8488/shared_colab_notebooks/blob/master/Create_streamlit_app.ipynb#scrollTo=XTGAizLhOIgC"
      ]
    },
    {
      "cell_type": "markdown",
      "metadata": {
        "id": "LAv-CsTmptAb"
      },
      "source": [
        "https://docs.streamlit.io/library/api-reference"
      ]
    },
    {
      "cell_type": "code",
      "execution_count": null,
      "metadata": {
        "id": "C6SsRIY_LOef"
      },
      "outputs": [],
      "source": [
        "!pip install --upgrade streamlit"
      ]
    },
    {
      "cell_type": "code",
      "source": [
        "!pip install jedi>=0.10"
      ],
      "metadata": {
        "id": "wV7h3pLTTGxB"
      },
      "execution_count": null,
      "outputs": []
    },
    {
      "cell_type": "code",
      "execution_count": null,
      "metadata": {
        "id": "FqS-9FauLDZg"
      },
      "outputs": [],
      "source": [
        "!npm install localtunnel"
      ]
    },
    {
      "cell_type": "code",
      "execution_count": null,
      "metadata": {
        "id": "wr6Pd-1k0zMY"
      },
      "outputs": [],
      "source": [
        "page(\"pageRendered\")"
      ]
    },
    {
      "cell_type": "markdown",
      "metadata": {
        "id": "i6lnxTE7xf_Q"
      },
      "source": [
        "# Examples of Streamlit Commands"
      ]
    },
    {
      "cell_type": "code",
      "execution_count": null,
      "metadata": {
        "id": "kmt2Eq6gbIJK"
      },
      "outputs": [],
      "source": [
        "%%writefile app3.py\n",
        "#The import statement must be in the same code cell as the app\n",
        "import streamlit as st\n",
        "import pandas as pd\n",
        "import numpy as np\n",
        "import altair as alt\n",
        "\n",
        "# Title of the web page\n",
        "nameString = \"Welcome to Streamlit\" \n",
        "st.title(nameString)\n",
        "\n",
        "# Text Input\n",
        "# save the input text in the variable 'name'\n",
        "# first argument shows the title of the text input box\n",
        "# second argument displays a default text inside the text input area\n",
        "name = st.text_input(\"Enter Your name\", \"Type Here ...\")\n",
        " \n",
        "# Number Input\n",
        "# save the input number in the variable 'number'\n",
        "number = st.number_input(\"Enter Your Number\")\n",
        "\n",
        "# display the name when the submit button is clicked\n",
        "# .title() is used to get the input text string\n",
        "if(st.button('Submit')):\n",
        "    result = name.title()\n",
        "    st.success(result)\n",
        "    name_num=\"Your name is \"+name+\" Your number is \"+str(number)\n",
        "    st.success(name_num)"
      ]
    },
    {
      "cell_type": "markdown",
      "metadata": {
        "id": "96ysRNDEfmBL"
      },
      "source": [
        "**Make sure you are in the right directory to run app3.py**<br>\n",
        "If you do not have the correct path for the app, you will not get an error, the page just won't load. "
      ]
    },
    {
      "cell_type": "code",
      "execution_count": null,
      "metadata": {
        "id": "T68VrSbMLVMv"
      },
      "outputs": [],
      "source": [
        "!streamlit run app3.py &>/content/logs.txt &"
      ]
    },
    {
      "cell_type": "code",
      "execution_count": null,
      "metadata": {
        "id": "uCOKbfiQL6HQ"
      },
      "outputs": [],
      "source": [
        "!npx localtunnel --port 8501"
      ]
    },
    {
      "cell_type": "markdown",
      "metadata": {
        "id": "xbvsFVDAk91r"
      },
      "source": [
        "**Assignment 1**<br>\n",
        "Create an app called app4<br>\n",
        "The app should have:<br>\n",
        "\n",
        "\n",
        "*   At least two text input boxes\n",
        "*   At least two number input boxes\n",
        "\n",
        "\n",
        "*   A submit button\n",
        "*   Upon submission, print the two text inputs and the two number inputs\n"
      ]
    },
    {
      "cell_type": "markdown",
      "metadata": {
        "id": "cjFRoHDenl86"
      },
      "source": [
        "\n",
        "\n",
        "---\n",
        "\n"
      ]
    },
    {
      "cell_type": "markdown",
      "metadata": {
        "id": "m2UDKz-326C7"
      },
      "source": [
        "# In the next app, we use markdown and interactive widgets on the page. <br>\n"
      ]
    },
    {
      "cell_type": "markdown",
      "metadata": {
        "id": "2oFEwOTWnoA6"
      },
      "source": [
        "By default, any HTML tags found in the body will be escaped and therefore treated as pure text. This behavior may be turned off.\n",
        "\n",
        "But it is strongly advise against turning it off. It is hard to write secure HTML, so by using this argument you may be compromising your users' security. For more information, see:\n",
        "\n",
        "https://github.com/streamlit/streamlit/issues/152"
      ]
    },
    {
      "cell_type": "code",
      "execution_count": null,
      "metadata": {
        "id": "hwny4wu9nc_s"
      },
      "outputs": [],
      "source": [
        "%%writefile app5.py\n",
        "#The import statement must be in the same code cell as the app\n",
        "import streamlit as st\n",
        "import pandas as pd\n",
        "import numpy as np\n",
        "import altair as alt\n",
        "\n",
        "# Title of the web page\n",
        "nameString = \"Welcome to Streamlit\" \n",
        "st.title(nameString)\n",
        "\n",
        "st.markdown('---')\n",
        "x = st.slider('Select a value')\n",
        "st.write(x, 'squared is', x * x)\n",
        "# Markdown\n",
        "st.markdown(\"### This is a markdown\")\n",
        "st.markdown('---')\n",
        "\n",
        "\n",
        "st.success(\"Success\")\n",
        " \n",
        "\n",
        "st.info(\"Information\")\n",
        " \n",
        "\n",
        "st.warning(\"Warning\")\n",
        " \n",
        "st.error(\"Error\")\n",
        "\n",
        "# Write text\n",
        "st.write(\"Writing text on the page\")\n",
        " \n",
        "# Writing python inbuilt function range()\n",
        "st.write(\"Write the range from the built-in Python function\")\n",
        "st.write(range(10))\n",
        "\n",
        "st.markdown('---')\n",
        "\n",
        "# checkbox\n",
        "# check if the checkbox is checked\n",
        "# title of the checkbox is 'Demonstrating Show/Hide'\n",
        "if st.checkbox(\"Show/Hide\"):\n",
        " \n",
        "    # display the text if the checkbox returns True value\n",
        "    st.text(\"Showing or hiding the text based on the checkbox\")\n",
        "\n",
        "st.markdown('---')\n",
        "\n",
        "# multi select box\n",
        " \n",
        "# first argument takes the box title\n",
        "# second argument takes the options to show\n",
        "hobbies = st.multiselect(\"Hobbies: \",\n",
        "                         ['Dancing', 'Reading', 'Sports'])\n",
        " \n",
        "# write the selected options\n",
        "st.write(\"You selected\", len(hobbies), 'hobbies')\n",
        "\n",
        "if hobbies.count(\"Dancing\") >0:\n",
        "  st.write(\"So you like to dance!\")\n",
        "if hobbies.count(\"Reading\") >0:\n",
        "  st.write(\"Reading is the best!\")\n",
        "if hobbies.count(\"Sports\") >0:\n",
        "  st.write(\"Playing or watching or both?\")\n",
        "if len(hobbies)==0:\n",
        "  st.write(\"What's your hobby?\")\n",
        "\n",
        "st.markdown('---')\n",
        "#Add an emoji\n",
        "#https://streamlit-emoji-shortcodes-streamlit-app-gwckff.streamlit.app/\n",
        "st.write('Hello, *World!* :sunglasses:')"
      ]
    },
    {
      "cell_type": "code",
      "execution_count": null,
      "metadata": {
        "id": "C1o1KyeonhYw"
      },
      "outputs": [],
      "source": [
        "!streamlit run app5.py &>/content/logs.txt &"
      ]
    },
    {
      "cell_type": "code",
      "execution_count": null,
      "metadata": {
        "id": "TrdYy3b1nkNm"
      },
      "outputs": [],
      "source": [
        "!npx localtunnel --port 8501"
      ]
    },
    {
      "cell_type": "markdown",
      "metadata": {
        "id": "0zo860wz33ub"
      },
      "source": [
        "**Assignment 2**<br>\n",
        "Create an app called app6<br>\n",
        "The page should have:\n",
        "\n",
        "*   At least one check box\n",
        "*   At least one drop down menu with at least four options\n",
        "*   Print a different message depending on the options selected. \n",
        "*  Write on the page all the choices the user selected. \n",
        "\n",
        "\n",
        "\n"
      ]
    }
  ],
  "metadata": {
    "colab": {
      "private_outputs": true,
      "provenance": [],
      "include_colab_link": true
    },
    "kernelspec": {
      "display_name": "Python 3",
      "language": "python",
      "name": "python3"
    },
    "language_info": {
      "name": "python",
      "version": "3.9.5 (tags/v3.9.5:0a7dcbd, May  3 2021, 17:27:52) [MSC v.1928 64 bit (AMD64)]"
    },
    "vscode": {
      "interpreter": {
        "hash": "13ebf2d7165bdaaaadd33277baba9a9edf5524f3e87d2594fd9f1678110b4063"
      }
    }
  },
  "nbformat": 4,
  "nbformat_minor": 0
}