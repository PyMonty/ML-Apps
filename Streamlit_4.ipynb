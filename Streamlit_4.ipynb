{
  "nbformat": 4,
  "nbformat_minor": 0,
  "metadata": {
    "colab": {
      "private_outputs": true,
      "provenance": [],
      "authorship_tag": "ABX9TyM685EqqOssrlxwR4q4URSd",
      "include_colab_link": true
    },
    "kernelspec": {
      "name": "python3",
      "display_name": "Python 3"
    },
    "language_info": {
      "name": "python"
    }
  },
  "cells": [
    {
      "cell_type": "markdown",
      "metadata": {
        "id": "view-in-github",
        "colab_type": "text"
      },
      "source": [
        "<a href=\"https://colab.research.google.com/github/cagBRT/ML-Apps/blob/main/Streamlit_4.ipynb\" target=\"_parent\"><img src=\"https://colab.research.google.com/assets/colab-badge.svg\" alt=\"Open In Colab\"/></a>"
      ]
    },
    {
      "cell_type": "markdown",
      "source": [
        "# Creating a sidebar, menu in sidebar, and multiple pages"
      ],
      "metadata": {
        "id": "YmXL-m_fvzDf"
      }
    },
    {
      "cell_type": "code",
      "source": [
        "# Clone the entire repo.\n",
        "!git clone -l -s https://github.com/cagBRT/ML-Apps.git cloned-repo\n",
        "%cd cloned-repo"
      ],
      "metadata": {
        "id": "MPnRnGQDzdup"
      },
      "execution_count": null,
      "outputs": []
    },
    {
      "cell_type": "markdown",
      "source": [
        "https://colab.research.google.com/github/mrm8488/shared_colab_notebooks/blob/master/Create_streamlit_app.ipynb#scrollTo=XTGAizLhOIgC"
      ],
      "metadata": {
        "id": "bF4e2jTzdRCA"
      }
    },
    {
      "cell_type": "markdown",
      "source": [
        "https://docs.streamlit.io/library/api-reference"
      ],
      "metadata": {
        "id": "LAv-CsTmptAb"
      }
    },
    {
      "cell_type": "code",
      "source": [
        "!pip install --upgrade streamlit -q"
      ],
      "metadata": {
        "id": "C6SsRIY_LOef"
      },
      "execution_count": null,
      "outputs": []
    },
    {
      "cell_type": "code",
      "execution_count": null,
      "metadata": {
        "id": "FqS-9FauLDZg"
      },
      "outputs": [],
      "source": [
        "!npm install localtunnel"
      ]
    },
    {
      "cell_type": "code",
      "source": [
        "!pip install streamlit-option-menu"
      ],
      "metadata": {
        "id": "YXvirfZznrun"
      },
      "execution_count": null,
      "outputs": []
    },
    {
      "cell_type": "markdown",
      "source": [
        "# Adding formating"
      ],
      "metadata": {
        "id": "W9FupngW2Q2n"
      }
    },
    {
      "cell_type": "code",
      "source": [
        "#Sidebar\n",
        "%%writefile app3.py\n",
        "#The import statement must be in the same code cell as the app\n",
        "import streamlit as st\n",
        "import pandas as pd\n",
        "from streamlit_option_menu import option_menu\n",
        "from IPython.display import Image\n",
        "from PIL import Image\n",
        "import numpy as np\n",
        "import cv2\n",
        "\n",
        "# Using object notation\n",
        "add_selectbox = st.sidebar.selectbox(\n",
        "    \"How would you like to be contacted?\",\n",
        "    (\"Email\", \"Home phone\", \"Mobile phone\")\n",
        ")\n",
        "\n",
        "#Adding the menu on the left of the page in the sidebar\n",
        "# Using \"with\" notation\n",
        "with st.sidebar:\n",
        "        choose = option_menu(\"App Gallery\", [\"About\", \"Photo Editing\", \"Project Planning\", \"Python e-Course\", \"Contact\"],\n",
        "                         icons=['house', 'camera fill', 'kanban', 'book','person lines fill'],\n",
        "                         menu_icon=\"app-indicator\", default_index=0,\n",
        "                         styles={\n",
        "        \"container\": {\"padding\": \"5!important\", \"background-color\": \"#fafafa\"},\n",
        "        \"icon\": {\"color\": \"orange\", \"font-size\": \"25px\"}, \n",
        "        \"nav-link\": {\"font-size\": \"16px\", \"text-align\": \"left\", \"margin\":\"0px\", \"--hover-color\": \"#eee\"},\n",
        "        \"nav-link-selected\": {\"background-color\": \"#02ab21\"},\n",
        "    }\n",
        "    )\n",
        "\n",
        "#Adding a logo to col 2\n",
        "#Adding text to col 1\n",
        "logo = Image.open(r'images/noun-world-3219965-007435.png')\n",
        "#=============\n",
        "#It the 'About' menu is selected\n",
        "if choose == \"About\":\n",
        "    col1, col2 = st.columns( [0.8, 0.2])\n",
        "    with col1:               # To display the header text using css style\n",
        "        st.markdown(\"\"\" <style> .font {\n",
        "        font-size:35px ; font-family: 'Cooper Black'; color: #FF9633;} \n",
        "        </style> \"\"\", unsafe_allow_html=True)\n",
        "        st.markdown('<p class=\"font\">About the World</p>', unsafe_allow_html=True) \n",
        "        st.write(\"Lots of things happen in the world. Let's talk about them\")   \n",
        "    with col2:               # To display brand log\n",
        "        st.image(logo, width=130 )\n",
        "        st.write(\"This section of the page is column 2\")\n",
        "\n",
        "\n",
        "#=============\n",
        "elif choose == \"Photo Editing\":\n",
        "    col1, col2 = st.columns( [0.8, 0.2])\n",
        "    with col1:               # To display the header text using css style\n",
        "        st.markdown(\"\"\" <style> .font {\n",
        "        font-size:35px ; font-family: 'Cooper Black'; color: #FF9633;} \n",
        "        </style> \"\"\", unsafe_allow_html=True)\n",
        "        st.markdown('<p class=\"font\">Upload your photo here...</p>', unsafe_allow_html=True)\n",
        "        st.write(\"Your image will be converted to grayscale\")\n",
        "        \n",
        "    with col2:               # To display brand logo\n",
        "        st.image(logo,  width=150)\n",
        "    #Add file uploader to allow users to upload photos\n",
        "    uploaded_file = st.file_uploader(\"\", type=['jpg','png','jpeg'])\n",
        "    if uploaded_file is not None:\n",
        "        image = Image.open(uploaded_file)\n",
        "        \n",
        "        col1, col2 = st.columns( [0.5, 0.5])\n",
        "        with col1:\n",
        "            st.markdown('<p style=\"text-align: center;\">Before</p>',unsafe_allow_html=True)\n",
        "            st.image(image,width=300)  \n",
        "\n",
        "        with col2:\n",
        "            st.markdown('<p style=\"text-align: center;\">After</p>',unsafe_allow_html=True)\n",
        "\n",
        "            converted_img = np.array(image.convert('RGB')) \n",
        "            gray_scale = cv2.cvtColor(converted_img, cv2.COLOR_RGB2GRAY)\n",
        "            inv_gray = 255 - gray_scale\n",
        "            blur_image = cv2.GaussianBlur(inv_gray, (125,125), 0, 0)\n",
        "            sketch = cv2.divide(gray_scale, 255 - blur_image, scale=256)\n",
        "            st.image(sketch, width=300)\n",
        "\n",
        "#=============\n",
        "elif choose == \"Contact\":\n",
        "    st.markdown(\"\"\" <style> .font {\n",
        "    font-size:35px ; font-family: 'Cooper Black'; color: #FF9633;} \n",
        "    </style> \"\"\", unsafe_allow_html=True)\n",
        "    st.markdown('<p class=\"font\">Contact Form</p>', unsafe_allow_html=True)\n",
        "    with st.form(key='columns_in_form2',clear_on_submit=True): #set clear_on_submit=True so that the form will be reset/cleared once it's submitted\n",
        "        #st.write('Please help us improve!')\n",
        "        Name=st.text_input(label='Please Enter Your Name') #Collect user feedback\n",
        "        Email=st.text_input(label='Please Enter Email') #Collect user feedback\n",
        "        Message=st.text_input(label='Please Enter Your Message') #Collect user feedback\n",
        "        submitted = st.form_submit_button('Submit')\n",
        "        if submitted:\n",
        "            st.write('Thanks for your contacting us. We will respond to your questions or inquiries as soon as possible!')"
      ],
      "metadata": {
        "id": "gjMRzeUv2Su6"
      },
      "execution_count": null,
      "outputs": []
    },
    {
      "cell_type": "code",
      "source": [
        "!streamlit run app3.py &>/content/logs.txt &"
      ],
      "metadata": {
        "id": "czRX-NiP2ih8"
      },
      "execution_count": null,
      "outputs": []
    },
    {
      "cell_type": "code",
      "source": [
        "!npx localtunnel --port 8501"
      ],
      "metadata": {
        "id": "jNtdpXOG2lSA"
      },
      "execution_count": null,
      "outputs": []
    }
  ]
}