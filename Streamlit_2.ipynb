{
  "nbformat": 4,
  "nbformat_minor": 0,
  "metadata": {
    "colab": {
      "private_outputs": true,
      "provenance": [],
      "authorship_tag": "ABX9TyO7q6njZLJnZIBSAdcBv/oF",
      "include_colab_link": true
    },
    "kernelspec": {
      "name": "python3",
      "display_name": "Python 3"
    },
    "language_info": {
      "name": "python"
    }
  },
  "cells": [
    {
      "cell_type": "markdown",
      "metadata": {
        "id": "view-in-github",
        "colab_type": "text"
      },
      "source": [
        "<a href=\"https://colab.research.google.com/github/cagBRT/ML-Apps/blob/main/Streamlit_2.ipynb\" target=\"_parent\"><img src=\"https://colab.research.google.com/assets/colab-badge.svg\" alt=\"Open In Colab\"/></a>"
      ]
    },
    {
      "cell_type": "markdown",
      "source": [
        "# **Adding interactive elements to the page**"
      ],
      "metadata": {
        "id": "_CpBa-UouW_f"
      }
    },
    {
      "cell_type": "code",
      "source": [
        "# Clone the entire repo.\n",
        "!git clone -l -s https://github.com/cagBRT/ML-Apps.git cloned-repo\n",
        "%cd cloned-repo"
      ],
      "metadata": {
        "id": "MPnRnGQDzdup"
      },
      "execution_count": null,
      "outputs": []
    },
    {
      "cell_type": "code",
      "source": [
        "from IPython.display import Image\n",
        "def page(num):\n",
        "  return Image(\"/content/cloned-repo/images/\"+num+\".png\" , width=640)"
      ],
      "metadata": {
        "id": "ZW11LqMn0wfd"
      },
      "execution_count": null,
      "outputs": []
    },
    {
      "cell_type": "markdown",
      "source": [
        "https://colab.research.google.com/github/mrm8488/shared_colab_notebooks/blob/master/Create_streamlit_app.ipynb#scrollTo=XTGAizLhOIgC"
      ],
      "metadata": {
        "id": "bF4e2jTzdRCA"
      }
    },
    {
      "cell_type": "markdown",
      "source": [
        "https://docs.streamlit.io/library/api-reference"
      ],
      "metadata": {
        "id": "LAv-CsTmptAb"
      }
    },
    {
      "cell_type": "code",
      "source": [
        "!pip install --upgrade streamlit -q"
      ],
      "metadata": {
        "id": "C6SsRIY_LOef"
      },
      "execution_count": null,
      "outputs": []
    },
    {
      "cell_type": "code",
      "execution_count": null,
      "metadata": {
        "id": "FqS-9FauLDZg"
      },
      "outputs": [],
      "source": [
        "!npm install localtunnel"
      ]
    },
    {
      "cell_type": "code",
      "source": [
        "page(\"pageRendered\")"
      ],
      "metadata": {
        "id": "wr6Pd-1k0zMY"
      },
      "execution_count": null,
      "outputs": []
    },
    {
      "cell_type": "markdown",
      "source": [
        "# Examples of Streamlit Commands"
      ],
      "metadata": {
        "id": "i6lnxTE7xf_Q"
      }
    },
    {
      "cell_type": "code",
      "source": [
        "%%writefile app3.py\n",
        "#The import statement must be in the same code cell as the app\n",
        "import streamlit as st\n",
        "import pandas as pd\n",
        "import numpy as np\n",
        "import altair as alt\n",
        "\n",
        "# Title of the web page\n",
        "nameString = \"Welcome to Streamlit\" \n",
        "st.title(nameString)\n",
        "\n",
        "# Text Input\n",
        "# save the input text in the variable 'name'\n",
        "# first argument shows the title of the text input box\n",
        "# second argument displays a default text inside the text input area\n",
        "name = st.text_input(\"Enter Your name\", \"Type Here ...\")\n",
        " \n",
        "# Number Input\n",
        "# save the input number in the variable 'number'\n",
        "number = st.number_input(\"Enter Your Number\")\n",
        "\n",
        "# display the name when the submit button is clicked\n",
        "# .title() is used to get the input text string\n",
        "if(st.button('Submit')):\n",
        "    result = name.title()\n",
        "    st.success(result)\n",
        "    name_num=\"Your name is \"+name+\" Your number is \"+str(number)\n",
        "    st.success(name_num)"
      ],
      "metadata": {
        "id": "kmt2Eq6gbIJK"
      },
      "execution_count": null,
      "outputs": []
    },
    {
      "cell_type": "markdown",
      "source": [
        "**Make sure you are in the right directory to run app3.py**<br>\n",
        "If you do not have the correct path for the app, you will not get an error, the page just won't load. "
      ],
      "metadata": {
        "id": "96ysRNDEfmBL"
      }
    },
    {
      "cell_type": "code",
      "source": [
        "!streamlit run app3.py &>/content/logs.txt &"
      ],
      "metadata": {
        "id": "T68VrSbMLVMv"
      },
      "execution_count": null,
      "outputs": []
    },
    {
      "cell_type": "code",
      "source": [
        "!npx localtunnel --port 8501"
      ],
      "metadata": {
        "id": "uCOKbfiQL6HQ"
      },
      "execution_count": null,
      "outputs": []
    },
    {
      "cell_type": "markdown",
      "source": [
        "**Assignment 1**<br>\n",
        "Create an app called app4<br>\n",
        "The app should have:<br>\n",
        "\n",
        "\n",
        "*   At least two text input boxes\n",
        "*   At least two number input boxes\n",
        "\n",
        "\n",
        "*   A submit button\n",
        "*   Upon submission, print the two text inputs and the two number inputs\n"
      ],
      "metadata": {
        "id": "xbvsFVDAk91r"
      }
    },
    {
      "cell_type": "markdown",
      "source": [
        "\n",
        "\n",
        "---\n",
        "\n"
      ],
      "metadata": {
        "id": "cjFRoHDenl86"
      }
    },
    {
      "cell_type": "markdown",
      "source": [
        "# In the next app we use markdown and interactive widgets on the page. <br>\n"
      ],
      "metadata": {
        "id": "m2UDKz-326C7"
      }
    },
    {
      "cell_type": "markdown",
      "source": [
        "By default, any HTML tags found in the body will be escaped and therefore treated as pure text. This behavior may be turned off.\n",
        "\n",
        "But it is strongly advise against turning it off. It is hard to write secure HTML, so by using this argument you may be compromising your users' security. For more information, see:\n",
        "\n",
        "https://github.com/streamlit/streamlit/issues/152"
      ],
      "metadata": {
        "id": "2oFEwOTWnoA6"
      }
    },
    {
      "cell_type": "code",
      "source": [
        "%%writefile app5.py\n",
        "#The import statement must be in the same code cell as the app\n",
        "import streamlit as st\n",
        "import pandas as pd\n",
        "import numpy as np\n",
        "import altair as alt\n",
        "\n",
        "# Title of the web page\n",
        "nameString = \"Welcome to Streamlit\" \n",
        "st.title(nameString)\n",
        "\n",
        "st.markdown('---')\n",
        "x = st.slider('Select a value')\n",
        "st.write(x, 'squared is', x * x)\n",
        "# Markdown\n",
        "st.markdown(\"### This is a markdown\")\n",
        "st.markdown('---')\n",
        "\n",
        "#success\n",
        "st.success(\"Success\")\n",
        " \n",
        "# success\n",
        "st.info(\"Information\")\n",
        " \n",
        "# success\n",
        "st.warning(\"Warning\")\n",
        " \n",
        "# success\n",
        "st.error(\"Error\")\n",
        "\n",
        "# Write text\n",
        "st.write(\"Writing text on the page\")\n",
        " \n",
        "# Writing python inbuilt function range()\n",
        "st.write(\"Write the range from the built-in Python function\")\n",
        "st.write(range(10))\n",
        "\n",
        "st.markdown('---')\n",
        "\n",
        "# checkbox\n",
        "# check if the checkbox is checked\n",
        "# title of the checkbox is 'Demonstrating Show/Hide'\n",
        "if st.checkbox(\"Show/Hide\"):\n",
        " \n",
        "    # display the text if the checkbox returns True value\n",
        "    st.text(\"Showing or hiding the text based on the checkbox\")\n",
        "\n",
        "st.markdown('---')\n",
        "\n",
        "# multi select box\n",
        " \n",
        "# first argument takes the box title\n",
        "# second argument takes the options to show\n",
        "hobbies = st.multiselect(\"Hobbies: \",\n",
        "                         ['Dancing', 'Reading', 'Sports'])\n",
        " \n",
        "# write the selected options\n",
        "st.write(\"You selected\", len(hobbies), 'hobbies')\n",
        "\n",
        "if hobbies.count(\"Dancing\") >0:\n",
        "  st.write(\"So you like to dance!\")\n",
        "if hobbies.count(\"Reading\") >0:\n",
        "  st.write(\"Reading is the best!\")\n",
        "if hobbies.count(\"Sports\") >0:\n",
        "  st.write(\"Playing or watching or both?\")\n",
        "if len(hobbies)==0:\n",
        "  st.write(\"What's your hobby?\")\n",
        "\n",
        "st.markdown('---')\n",
        "#Add an emoji\n",
        "#https://streamlit-emoji-shortcodes-streamlit-app-gwckff.streamlit.app/\n",
        "st.write('Hello, *World!* :sunglasses:')"
      ],
      "metadata": {
        "id": "hwny4wu9nc_s"
      },
      "execution_count": null,
      "outputs": []
    },
    {
      "cell_type": "code",
      "source": [
        "!streamlit run app5.py &>/content/logs.txt &"
      ],
      "metadata": {
        "id": "C1o1KyeonhYw"
      },
      "execution_count": null,
      "outputs": []
    },
    {
      "cell_type": "code",
      "source": [
        "!npx localtunnel --port 8501"
      ],
      "metadata": {
        "id": "TrdYy3b1nkNm"
      },
      "execution_count": null,
      "outputs": []
    },
    {
      "cell_type": "markdown",
      "source": [
        "**Assignment 2**<br>\n",
        "Create an app called app6<br>\n",
        "The page should have:\n",
        "\n",
        "*   At least one check box\n",
        "*   At least one drop down menu with at least four options\n",
        "*   Print a different message depending on the options selected. \n",
        "*  Write on the page all the choices the user selected. \n",
        "\n",
        "\n",
        "\n"
      ],
      "metadata": {
        "id": "0zo860wz33ub"
      }
    }
  ]
}