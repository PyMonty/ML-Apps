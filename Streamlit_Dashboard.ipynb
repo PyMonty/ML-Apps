{
  "nbformat": 4,
  "nbformat_minor": 0,
  "metadata": {
    "colab": {
      "private_outputs": true,
      "provenance": [],
      "authorship_tag": "ABX9TyM+v2y899RXQh1nMjVD2lJZ",
      "include_colab_link": true
    },
    "kernelspec": {
      "name": "python3",
      "display_name": "Python 3"
    },
    "language_info": {
      "name": "python"
    }
  },
  "cells": [
    {
      "cell_type": "markdown",
      "metadata": {
        "id": "view-in-github",
        "colab_type": "text"
      },
      "source": [
        "<a href=\"https://colab.research.google.com/github/cagBRT/ML-Apps/blob/main/Streamlit_Dashboard.ipynb\" target=\"_parent\"><img src=\"https://colab.research.google.com/assets/colab-badge.svg\" alt=\"Open In Colab\"/></a>"
      ]
    },
    {
      "cell_type": "code",
      "source": [
        "# Clone the entire repo.\n",
        "!git clone -l -s https://github.com/cagBRT/Intro-to-Programming-with-Python.git"
      ],
      "metadata": {
        "id": "MPnRnGQDzdup"
      },
      "execution_count": null,
      "outputs": []
    },
    {
      "cell_type": "markdown",
      "source": [
        "https://colab.research.google.com/github/mrm8488/shared_colab_notebooks/blob/master/Create_streamlit_app.ipynb#scrollTo=XTGAizLhOIgC"
      ],
      "metadata": {
        "id": "bF4e2jTzdRCA"
      }
    },
    {
      "cell_type": "markdown",
      "source": [
        "https://docs.streamlit.io/library/api-reference"
      ],
      "metadata": {
        "id": "LAv-CsTmptAb"
      }
    },
    {
      "cell_type": "code",
      "source": [
        "!pip install --upgrade streamlit -q"
      ],
      "metadata": {
        "id": "C6SsRIY_LOef"
      },
      "execution_count": null,
      "outputs": []
    },
    {
      "cell_type": "code",
      "execution_count": null,
      "metadata": {
        "id": "FqS-9FauLDZg"
      },
      "outputs": [],
      "source": [
        "!npm install localtunnel"
      ]
    },
    {
      "cell_type": "code",
      "source": [
        "%%writefile app6.py\n",
        "# my_dashboard.py\n",
        "import numpy as np\n",
        "from scipy.stats import norm\n",
        "import matplotlib.pyplot as plt\n",
        "import streamlit as st\n",
        "\n",
        "st.title('Normal distribution')\n",
        "\n",
        "mu_in = st.slider('Mean', value=5, min_value=-10, max_value=10)\n",
        "std_in = st.slider('Standard deviation', value=5.0, min_value=0.0, max_value=10.0)\n",
        "size = st.slider('Number of samples', value=100, max_value=500)\n",
        "\n",
        "def norm_dist(mu, std, size=100):\n",
        "\t\"\"\"Generate normal distribution.\"\"\"\n",
        "\treturn norm.rvs(mu, std, size=size)\n",
        "\n",
        "data = norm_dist(mu_in, std_in, size=size)\n",
        "\n",
        "# Fit the normal distribution\n",
        "mu, std = norm.fit(data)\n",
        "\n",
        "# Make some plots\n",
        "x = np.linspace(-40, 40, 100)\n",
        "y = norm.pdf(x, mu, std)\n",
        "\n",
        "title = f\"Fit results: {mu=:.2f},  {std=:.2f}\"\n",
        "\n",
        "fig, ax = plt.subplots()\n",
        "ax.hist(data, bins=50, density=True)\n",
        "ax.plot(x, y, 'k', linewidth=2)\n",
        "ax.set_title(title)\n",
        "\n",
        "st.pyplot(fig)"
      ],
      "metadata": {
        "id": "tJj8EfCb0mLX"
      },
      "execution_count": null,
      "outputs": []
    },
    {
      "cell_type": "code",
      "source": [
        "!streamlit run /content/app6.py &>/content/logs.txt &"
      ],
      "metadata": {
        "id": "fEI7KZKANOoV"
      },
      "execution_count": null,
      "outputs": []
    },
    {
      "cell_type": "code",
      "source": [
        "!npx localtunnel --port 8501"
      ],
      "metadata": {
        "id": "9Et2tCe8NS77"
      },
      "execution_count": null,
      "outputs": []
    }
  ]
}