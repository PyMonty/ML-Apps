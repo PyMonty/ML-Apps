{
  "nbformat": 4,
  "nbformat_minor": 0,
  "metadata": {
    "colab": {
      "private_outputs": true,
      "provenance": [],
      "authorship_tag": "ABX9TyNDwBg0VsoeJ+2xrn+mEWrD",
      "include_colab_link": true
    },
    "kernelspec": {
      "name": "python3",
      "display_name": "Python 3"
    },
    "language_info": {
      "name": "python"
    }
  },
  "cells": [
    {
      "cell_type": "markdown",
      "metadata": {
        "id": "view-in-github",
        "colab_type": "text"
      },
      "source": [
        "<a href=\"https://colab.research.google.com/github/cagBRT/ML-Apps/blob/main/loanwebpage.ipynb\" target=\"_parent\"><img src=\"https://colab.research.google.com/assets/colab-badge.svg\" alt=\"Open In Colab\"/></a>"
      ]
    },
    {
      "cell_type": "code",
      "source": [
        "# Clone the entire repo.\n",
        "!git clone -l -s https://github.com/cagBRT/ML-Apps.git cloned-repo\n",
        "!cd cloned-repo"
      ],
      "metadata": {
        "id": "F-wVFDlctI6R"
      },
      "execution_count": null,
      "outputs": []
    },
    {
      "cell_type": "code",
      "source": [
        "!npm install stable"
      ],
      "metadata": {
        "id": "-ki0vIHxxK2m"
      },
      "execution_count": null,
      "outputs": []
    },
    {
      "cell_type": "code",
      "source": [
        "!pip install --upgrade streamlit -q"
      ],
      "metadata": {
        "id": "XNg5KsfqqeTE"
      },
      "execution_count": null,
      "outputs": []
    },
    {
      "cell_type": "code",
      "source": [
        "!npm install localtunnel"
      ],
      "metadata": {
        "id": "I3vTBKT9wirL"
      },
      "execution_count": null,
      "outputs": []
    },
    {
      "cell_type": "code",
      "source": [
        "!npm fund"
      ],
      "metadata": {
        "id": "Gn6Wb6ybwKV0"
      },
      "execution_count": null,
      "outputs": []
    },
    {
      "cell_type": "code",
      "execution_count": null,
      "metadata": {
        "id": "P93W_w3UrT5o"
      },
      "outputs": [],
      "source": [
        "%%writefile app.py\n",
        "import streamlit as st\n",
        "import pickle\n",
        "\n",
        "left, right = st.columns((2,2))\n",
        "gender = left.selectbox('Gender', ('Male', 'Female'))\n",
        "married = right.selectbox('Married', ('Yes', 'No'))\n",
        "dependent = left.selectbox('Dependents', ('None', 'One', 'Two', 'Three'))\n",
        "education = right.selectbox('Education', ('Graduate', 'Not Graduate'))\n",
        "self_employed = left.selectbox('Self-Employed', ('Yes', 'No'))\n",
        "applicant_income = right.number_input('Applicant Income')\n",
        "coApplicantIncome = left.number_input('Coapplicant Income')\n",
        "loanAmount = right.number_input('Loan Amount')\n",
        "loan_amount_term = left.number_input('Loan Tenor (in months)')\n",
        "creditHistory = right.number_input('Credit History', 0.0, 1.0)\n",
        "propertyArea = st.selectbox('Property Area', ('Semiurban', 'Urban', 'Rural'))\n",
        "button = st.button('Predict')\n",
        "\n",
        "\n",
        "\n",
        "  # load the train model\n",
        "with open('train_model.pkl', 'rb') as pkl:\n",
        "    train_model = pickle.load(pkl)\n",
        "\n",
        "\n",
        "def predict(gender, married, dependent, education, self_employed, applicant_income,\n",
        "           coApplicantIncome, loanAmount, loan_amount_term, creditHistory, propertyArea):\n",
        "    # processing user input\n",
        "    gen = 0 if gender == 'Male' else 1\n",
        "    mar = 0 if married == 'Yes' else 1\n",
        "    dep = float(0 if dependent == 'None' else 1 if dependent == 'One' else 2 if dependent == 'Two' else 3)\n",
        "    edu = 0 if education == 'Graduate' else 1\n",
        "    sem = 0 if self_employed == 'Yes' else 1\n",
        "    pro = 0 if propertyArea == 'Semiurban' else 1 if propertyArea == 'Urban' else 2\n",
        "    Lam = loanAmount / 1000\n",
        "    cap = coApplicantIncome / 1000\n",
        "     # making predictions\n",
        "    prediction = train_model.predict([[gen, mar, dep, edu, sem, applicant_income, coApplicantIncome,\n",
        "                                      Lam, loan_amount_term, creditHistory, pro]])\n",
        "    verdict = 'Not Eligible' if prediction == 0 else 'Eligible'\n",
        "    return verdict\n",
        "\n",
        "\n",
        "# if button is clicked\n",
        "if button:\n",
        "  # make prediction\n",
        "  result = predict(gender, married, dependent, education, self_employed, applicant_income,\n",
        "                  coApplicantIncome, loanAmount, loan_amount_term, creditHistory, propertyArea)\n",
        "  st.success(f'You are {result} for the loan')"
      ]
    },
    {
      "cell_type": "code",
      "source": [
        "!streamlit run app.py &>/content/logs.txt &"
      ],
      "metadata": {
        "id": "hoGOJWW5r45b"
      },
      "execution_count": null,
      "outputs": []
    },
    {
      "cell_type": "code",
      "source": [
        "!npx localtunnel --port 8501"
      ],
      "metadata": {
        "id": "HUw_TAWSswzp"
      },
      "execution_count": null,
      "outputs": []
    }
  ]
}