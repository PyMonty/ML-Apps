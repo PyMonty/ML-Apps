{
  "nbformat": 4,
  "nbformat_minor": 0,
  "metadata": {
    "colab": {
      "private_outputs": true,
      "provenance": [],
      "authorship_tag": "ABX9TyPKD/1WoY8fFjMBoOeKcCZv",
      "include_colab_link": true
    },
    "kernelspec": {
      "name": "python3",
      "display_name": "Python 3"
    },
    "language_info": {
      "name": "python"
    }
  },
  "cells": [
    {
      "cell_type": "markdown",
      "metadata": {
        "id": "view-in-github",
        "colab_type": "text"
      },
      "source": [
        "<a href=\"https://colab.research.google.com/github/cagBRT/ML-Apps/blob/main/Streamlit_6.ipynb\" target=\"_parent\"><img src=\"https://colab.research.google.com/assets/colab-badge.svg\" alt=\"Open In Colab\"/></a>"
      ]
    },
    {
      "cell_type": "code",
      "source": [
        "# Clone the entire repo.\n",
        "!git clone -l -s https://github.com/cagBRT/ML-Apps.git cloned-repo"
      ],
      "metadata": {
        "id": "MPnRnGQDzdup"
      },
      "execution_count": null,
      "outputs": []
    },
    {
      "cell_type": "markdown",
      "source": [
        "https://colab.research.google.com/github/mrm8488/shared_colab_notebooks/blob/master/Create_streamlit_app.ipynb#scrollTo=XTGAizLhOIgC"
      ],
      "metadata": {
        "id": "bF4e2jTzdRCA"
      }
    },
    {
      "cell_type": "markdown",
      "source": [
        "https://docs.streamlit.io/library/api-reference"
      ],
      "metadata": {
        "id": "LAv-CsTmptAb"
      }
    },
    {
      "cell_type": "code",
      "source": [
        "!pip install --upgrade streamlit -q"
      ],
      "metadata": {
        "id": "C6SsRIY_LOef"
      },
      "execution_count": null,
      "outputs": []
    },
    {
      "cell_type": "code",
      "execution_count": null,
      "metadata": {
        "id": "FqS-9FauLDZg"
      },
      "outputs": [],
      "source": [
        "!npm install localtunnel"
      ]
    },
    {
      "cell_type": "markdown",
      "source": [
        "# Interacting with an ML Model<br>\n",
        "\n",
        "Used the model from this notebook: <br>\n",
        "https://colab.research.google.com/github/cagBRT/Machine-Learning/blob/master/LinearRegression1.ipynb#scrollTo=r6g9OZYMdEXH"
      ],
      "metadata": {
        "id": "vhsGhTz_8R5F"
      }
    },
    {
      "cell_type": "markdown",
      "source": [
        "The model is a linear regression model with 10 inputs. It was trained on synthetic data that I created. "
      ],
      "metadata": {
        "id": "22p-TmAIszOk"
      }
    },
    {
      "cell_type": "code",
      "source": [
        "%%writefile app5.py\n",
        "# load the model from disk\n",
        "#Model has 10 inputs\n",
        "\n",
        "import pickle\n",
        "import streamlit as st\n",
        "import pandas as pd\n",
        "import numpy as np\n",
        "import altair as alt\n",
        "\n",
        "# Title of the web page\n",
        "nameString = \"Using an ML Model\" \n",
        "st.title(nameString)\n",
        "\n",
        "#Example of data\n",
        "#data_in=([ 0.74220833, -1.55531804,  0.12182436, -0.62981161,  0.4052746 ,\n",
        "#        1.82039313, -1.43901352, -2.37934499,  0.50584393, -0.64488697])\n",
        "\n",
        "#Get the 10 features from the user\n",
        "feature1 = st.number_input(\"F1\")\n",
        "feature2 = st.number_input(\"F2\")\n",
        "feature3 = st.number_input(\"F3\")\n",
        "feature4 = st.number_input(\"F4\")\n",
        "feature5 = st.number_input(\"F5\")\n",
        "feature6 = st.number_input(\"F6\")\n",
        "feature7 = st.number_input(\"F7\")\n",
        "feature8 = st.number_input(\"F8\")\n",
        "feature9 = st.number_input(\"F9\")\n",
        "feature10 = st.number_input(\"F10\")\n",
        "\n",
        "#Put the features into a numpy array\n",
        "data_in=([ feature1, feature2,  feature3, feature4,  feature5,\n",
        "        feature6, feature7, feature8,  feature9, feature10])\n",
        "data_in=np.array(data_in)\n",
        "data_in=data_in.reshape(1,-1)\n",
        "\n",
        "#Get the model\n",
        "filename = '/content/cloned-repo/finalized_model.sav'\n",
        "loaded_model = pickle.load(open(filename, 'rb'))\n",
        "\n",
        "#Make a prediction with the user entered data\n",
        "y_pred = loaded_model.predict(data_in)\n",
        "if(st.button('Predict Output')):\n",
        "  st.success(y_pred)\n"
      ],
      "metadata": {
        "id": "xvCQUNQr8VU7"
      },
      "execution_count": null,
      "outputs": []
    },
    {
      "cell_type": "code",
      "source": [
        "!streamlit run /content/app5.py &>/content/logs.txt &"
      ],
      "metadata": {
        "id": "WdvGnJgH_rjy"
      },
      "execution_count": null,
      "outputs": []
    },
    {
      "cell_type": "code",
      "source": [
        "!npx localtunnel --port 8501"
      ],
      "metadata": {
        "id": "Wkke_vIe_uf0"
      },
      "execution_count": null,
      "outputs": []
    },
    {
      "cell_type": "markdown",
      "source": [
        "\n",
        "\n",
        "---\n",
        "\n"
      ],
      "metadata": {
        "id": "H9MUB_Nmy_7C"
      }
    },
    {
      "cell_type": "markdown",
      "source": [
        "**Assignment 1**<br>\n",
        "1. Change the number of input features on the model. To do this: click on the link to the model and change the number of features in the synthetic data. <br>\n",
        "2. Change the app to reflect the new model. \n",
        "3. Make predictions with the new model"
      ],
      "metadata": {
        "id": "n-xtEfKduSH3"
      }
    },
    {
      "cell_type": "markdown",
      "source": [
        "Sample code for writing to a file. "
      ],
      "metadata": {
        "id": "QHdB_NaTwJSa"
      }
    },
    {
      "cell_type": "code",
      "source": [
        "#Open the file with its name and the permission. \n",
        "f = open(\"modelPredictions.txt\", \"w+\")"
      ],
      "metadata": {
        "id": "d4HoQBQevx3B"
      },
      "execution_count": null,
      "outputs": []
    },
    {
      "cell_type": "code",
      "source": [
        "#You can write a line or character at a time\n",
        "#Notice the '\\n' - this is a \"newline\" character\n",
        "#Put it in if you would like a newline for the next write\n",
        "f.write(\"This is the first line for the file\\n\")\n",
        "f.write(\"This is the second line for the file\\n\")\n",
        "f.write(\"a\")"
      ],
      "metadata": {
        "id": "HPMxcAuawBMS"
      },
      "execution_count": null,
      "outputs": []
    },
    {
      "cell_type": "code",
      "source": [
        "f.close()\n",
        "!cat modelPredictions.txt"
      ],
      "metadata": {
        "id": "ahGRjXy-wBN4"
      },
      "execution_count": null,
      "outputs": []
    },
    {
      "cell_type": "markdown",
      "source": [
        "\n",
        "\n",
        "---\n",
        "\n"
      ],
      "metadata": {
        "id": "8n1aaIVYzCSp"
      }
    },
    {
      "cell_type": "markdown",
      "source": [
        "**Assignment 2**<br>\n",
        "1. After the user hits the submit button, display all the input values and the prediction. \n",
        "2. Save it to a file."
      ],
      "metadata": {
        "id": "EP0WuqO2vRE6"
      }
    },
    {
      "cell_type": "markdown",
      "source": [
        "EC2 - on AWS, store data on block storage<br>\n",
        "don't do Sagemaker<br>\n",
        "can store in S3  if want but more of blob storage<br>\n",
        "Use StreamLit - how to deploy a https://docs.streamlit.io/streamlit-cloud/get-started/deploy-an-app<br>\n",
        "\n",
        "https://docs.streamlit.io/streamlit-cloud/get-started/deploy-an-app<br><br>\n",
        "\n",
        "https://towardsdatascience.com/how-to-deploy-a-streamlit-app-using-an-amazon-free-ec2-instance-416a41f69dc3<br>\n",
        "https://medium.com/pythoneers/best-python-libraries-for-deploying-machine-learning-models-as-web-app-687367c973b7\n"
      ],
      "metadata": {
        "id": "J4siu_Jyi2ev"
      }
    }
  ]
}