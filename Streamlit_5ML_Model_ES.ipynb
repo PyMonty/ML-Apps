{
  "cells": [
    {
      "attachments": {},
      "cell_type": "markdown",
      "metadata": {
        "colab_type": "text",
        "id": "view-in-github"
      },
      "source": [
        "<a href=\"https://colab.research.google.com/github/cagBRT/ML-Apps/blob/main/Streamlit_5ML_Model_ES.ipynb\" target=\"_parent\"><img src=\"https://colab.research.google.com/assets/colab-badge.svg\" alt=\"Abrir en Colab\"/></a>"
      ]
    },
    {
      "cell_type": "markdown",
      "metadata": {
        "id": "S_7ZruD4OZAh"
      },
      "source": [
        "# Este modelo demuestra cómo usar un modelo de ML con una aplicación Streamlit. \n",
        "El modelo es un [modelo de regresión lineal](https://colab.research.google.com/github/cagBRT/Machine-Learning/blob/master/LinearRegression1.ipynb#scrollTo=r6g9OZYMdEXH)<br>\n",
        "\n",
        "El modelo fue creado en [este cuaderno](https://colab.research.google.com/github/cagBRT/ML-Apps/blob/main/LoadApp.ipynb)\n"
      ]
    },
    {
      "cell_type": "code",
      "execution_count": null,
      "metadata": {
        "id": "MPnRnGQDzdup"
      },
      "outputs": [],
      "source": [
        "# Clonar todo el repositorio.\n",
        "!git clone -l -s https://github.com/cagBRT/ML-Apps.git cloned-repo"
      ]
    },
    {
      "cell_type": "code",
      "execution_count": null,
      "metadata": {
        "id": "AoygStY8ymww"
      },
      "outputs": [],
      "source": []
    },
    {
      "cell_type": "code",
      "execution_count": null,
      "metadata": {
        "id": "C6SsRIY_LOef"
      },
      "outputs": [],
      "source": [
        "!pip install --upgrade streamlit -q"
      ]
    },
    {
      "cell_type": "code",
      "execution_count": null,
      "metadata": {
        "id": "dIcUU0F0m00g"
      },
      "outputs": [],
      "source": [
        "!pip install jedi>=0.10"
      ]
    },
    {
      "cell_type": "code",
      "execution_count": null,
      "metadata": {
        "id": "FqS-9FauLDZg"
      },
      "outputs": [],
      "source": [
        "!npm install localtunnel"
      ]
    },
    {
      "cell_type": "markdown",
      "metadata": {
        "id": "22p-TmAIszOk"
      },
      "source": [
        "El modelo es un modelo de regresión lineal con 10 entradas. Fue entrenado con datos sintéticos que creé. <br>\n",
        "\n",
        "**El modelo se llama finalized_model.sav**<br>\n",
        "Puede encontrarlo aquí: /content/cloned-repo/finalized_model.sav\n",
        "<br>\n",
        "\n",
        "\n"
      ]
    },
    {
      "cell_type": "markdown",
      "metadata": {
        "id": "HckrNWPEPllW"
      },
      "source": [
        "# Crear la página web<br>\n",
        "El modelo tiene 10 entradas, la página web necesita solicitar 10 entradas al usuario.<br>\n",
        "\n",
        "Los datos deben colocarse en una matriz Numpy porque así es como entrenamos el modelo, para aceptar matrices Numpy. "
      ]
    },
    {
      "cell_type": "code",
      "execution_count": null,
      "metadata": {
        "id": "xvCQUNQr8VU7"
      },
      "outputs": [],
      "source": [
        "%%writefile app5.py\n",
        "# cargar el modelo desde el disco\n",
        "#Modelo tiene 10 entradas\n",
        "\n",
        "#importar pickle para leer finalized_model.sav\n",
        "import pickle\n",
        "import streamlit as st\n",
        "import pandas as pd\n",
        "import numpy as np\n",
        "import altair as alt\n",
        "\n",
        "# Título de la página web\n",
        "nameString = \"Usando un modelo de ML\" \n",
        "st.title(nameString)\n",
        "\n",
        "#Ejemplo de datos\n",
        "#data_in=([ 0.74220833, -1.55531804,  0.12182436, -0.62981161,  0.4052746 ,\n",
        "#        1.82039313, -1.43901352, -2.37934499,  0.50584393, -0.64488697])\n",
        "\n",
        "#Obtener las 10 características del usuario\n",
        "feature1 = st.number_input(\"F1\")\n",
        "feature2 = st.number_input(\"F2\")\n",
        "feature3 = st.number_input(\"F3\")\n",
        "feature4 = st.number_input(\"F4\")\n",
        "feature5 = st.number_input(\"F5\")\n",
        "feature6 = st.number_input(\"F6\")\n",
        "feature7 = st.number_input(\"F7\")\n",
        "feature8 = st.number_input(\"F8\")\n",
        "feature9 = st.number_input(\"F9\")\n",
        "feature10 = st.number_input(\"F10\")\n",
        "\n",
        "#Poner las características en una matriz numpy\n",
        "data_in=([ feature1, feature2,  feature3, feature4,  feature5,\n",
        "        feature6, feature7, feature8,  feature9, feature10])\n",
        "data_in=np.array(data_in)\n",
        "data_in=data_in.reshape(1,-1)\n",
        "\n",
        "#Get the model\n",
        "filename = '/content/cloned-repo/finalized_model.sav'\n",
        "loaded_model = pickle.load(open(filename, 'rb'))\n",
        "\n",
        "#Haz una predicción con los datos ingresados ​​por el usuario\n",
        "y_pred = loaded_model.predict(data_in)\n",
        "\n",
        "#Cuando se hace clic en el botón, la función de predicción se ejecutará utilizando los datos cargados\n",
        "if(st.button('Predict Output')):\n",
        "  st.success(y_pred)\n"
      ]
    },
    {
      "cell_type": "code",
      "execution_count": null,
      "metadata": {
        "id": "WdvGnJgH_rjy"
      },
      "outputs": [],
      "source": [
        "!streamlit run /content/app5.py &>/content/logs.txt &"
      ]
    },
    {
      "cell_type": "code",
      "execution_count": null,
      "metadata": {
        "id": "Wkke_vIe_uf0"
      },
      "outputs": [],
      "source": [
        "!npx localtunnel --port 8501"
      ]
    },
    {
      "cell_type": "markdown",
      "metadata": {
        "id": "H9MUB_Nmy_7C"
      },
      "source": [
        "\n",
        "\n",
        "---\n",
        "\n"
      ]
    },
    {
      "cell_type": "markdown",
      "metadata": {
        "id": "n-xtEfKduSH3"
      },
      "source": [
        "**Asignación 1**<br>\n",
        "1. Cambia el número de características de entrada en el modelo. Para hacer esto: haz clic en el enlace al modelo y cambia el número de características en los datos sintéticos. <br>\n",
        "2. Cambia la aplicación para reflejar el nuevo modelo. \n",
        "3. Realiza predicciones con el nuevo modelo\n",
        "\n",
        "El cuaderno del modelo está [aquí](https://colab.research.google.com/github/cagBRT/ML-Apps/blob/main/LoadApp.ipynb):\n"
      ]
    },
    {
      "cell_type": "markdown",
      "metadata": {
        "id": "QHdB_NaTwJSa"
      },
      "source": [
        "Código de ejemplo para escribir en un archivo."
      ]
    },
    {
      "cell_type": "code",
      "execution_count": null,
      "metadata": {
        "id": "d4HoQBQevx3B"
      },
      "outputs": [],
      "source": [
        "#Abrir el archivo con su nombre y permiso. \n",
        "f = open(\"modelPredictions.txt\", \"w+\")"
      ]
    },
    {
      "cell_type": "code",
      "execution_count": null,
      "metadata": {
        "id": "HPMxcAuawBMS"
      },
      "outputs": [],
      "source": [
        "#Puedes escribir una línea o un carácter a la vez\n",
        "#Nota '\\n' - esto es un carácter de \"nueva línea\"\n",
        "#Ponlo si quieres una nueva línea para la siguiente escritura\n",
        "f.write(\"Esta es la primera línea para el archivo\\n\")\n",
        "f.write(\"Esta es la segunda línea para el archivo\\n\")\n",
        "f.write(\"a\")"
      ]
    },
    {
      "cell_type": "code",
      "execution_count": null,
      "metadata": {
        "id": "ahGRjXy-wBN4"
      },
      "outputs": [],
      "source": [
        "f.close()\n",
        "!cat modelPredictions.txt"
      ]
    },
    {
      "cell_type": "markdown",
      "metadata": {
        "id": "8n1aaIVYzCSp"
      },
      "source": [
        "\n",
        "\n",
        "---\n",
        "\n"
      ]
    },
    {
      "cell_type": "markdown",
      "metadata": {
        "id": "EP0WuqO2vRE6"
      },
      "source": [
        "**Tarea 2**<br>\n",
        "1. Después de que el usuario presione el botón de enviar, muestra todos los valores de entrada y la predicción. \n",
        "2. Guárdalo en un archivo."
      ]
    },
    {
      "cell_type": "markdown",
      "metadata": {
        "id": "J4siu_Jyi2ev"
      },
      "source": [
        "EC2 - en AWS, almacene datos en almacenamiento en bloque<br>\n",
        "no haga Sagemaker<br>\n",
        "puede almacenar en S3 si lo desea, pero es más un almacenamiento de blobs<br>\n",
        "Use StreamLit:<br> [cómo implementar una aplicación](https://docs.streamlit.io/streamlit-cloud/get-started/deploy-an-app) <br>\n",
        "\n",
        "[Implementación de una aplicación de Streamlit](https://medium.com/pythoneers/best-python-libraries-for-deploying-machine-learning-models-as-web-app-687367c973b7)\n"
      ]
    }
  ],
  "metadata": {
    "colab": {
      "authorship_tag": "ABX9TyMTQTEwddJwHlMRTE9jamSY",
      "include_colab_link": true,
      "private_outputs": true,
      "provenance": []
    },
    "kernelspec": {
      "display_name": "Python 3",
      "name": "python3"
    },
    "language_info": {
      "name": "python"
    }
  },
  "nbformat": 4,
  "nbformat_minor": 0
}
