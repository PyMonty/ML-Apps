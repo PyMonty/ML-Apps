{
  "nbformat": 4,
  "nbformat_minor": 0,
  "metadata": {
    "colab": {
      "private_outputs": true,
      "provenance": [],
      "authorship_tag": "ABX9TyNLAv9c7QvhczGlmeR+2jTX",
      "include_colab_link": true
    },
    "kernelspec": {
      "name": "python3",
      "display_name": "Python 3"
    },
    "language_info": {
      "name": "python"
    }
  },
  "cells": [
    {
      "cell_type": "markdown",
      "metadata": {
        "id": "view-in-github",
        "colab_type": "text"
      },
      "source": [
        "<a href=\"https://colab.research.google.com/github/cagBRT/ML-Apps/blob/main/Streamlit_1.ipynb\" target=\"_parent\"><img src=\"https://colab.research.google.com/assets/colab-badge.svg\" alt=\"Open In Colab\"/></a>"
      ]
    },
    {
      "cell_type": "markdown",
      "source": [
        "This notebook uses Streamlit to create webpages on a localtunnel. <br>\n"
      ],
      "metadata": {
        "id": "lh33lMDar1nR"
      }
    },
    {
      "cell_type": "code",
      "source": [
        "# Clone the entire repo.\n",
        "!git clone -l -s https://github.com/cagBRT/ML-Apps.git cloned-repo\n",
        "%cd cloned-repo"
      ],
      "metadata": {
        "id": "MPnRnGQDzdup"
      },
      "execution_count": null,
      "outputs": []
    },
    {
      "cell_type": "code",
      "source": [
        "from IPython.display import Image\n",
        "def page(num):\n",
        "  return Image(\"/content/cloned-repo/images/\"+num+\".png\" , width=640)"
      ],
      "metadata": {
        "id": "YiQMHaFKxPwV"
      },
      "execution_count": null,
      "outputs": []
    },
    {
      "cell_type": "markdown",
      "source": [
        "To be able develop and view a website on your computer is important. <br>\n",
        "We can do this using a Python library called Streamlit. <br>\n",
        "The steps we will follow are:<br>\n",
        "1. Import the streamlit library<br>\n",
        "2. Write Python code to render your page.\n",
        "3. Run the website on your computer. \n",
        "4. To view your webpage locally, create a localtunnel. This will give you a unique URL to view the webpage. \n",
        "5. Go to the URL and interact with the webpage."
      ],
      "metadata": {
        "id": "nNTjkODp5RxO"
      }
    },
    {
      "cell_type": "code",
      "source": [
        "page(\"steps\")"
      ],
      "metadata": {
        "id": "2JqiBZeBxV78"
      },
      "execution_count": null,
      "outputs": []
    },
    {
      "cell_type": "markdown",
      "source": [
        "A localtunnel serves your webpage. Your computer runs the web app that you created. <br>\n",
        "A localtunnel will allow you to interact with your web app as if it were a public website. <br>\n",
        "It should not interfere with your DNS or firewall settings. <br><br>\n",
        "**If you are running on a Deere computer, you should be able to see your web app, but it is quite possible Deere firewall will stop others from accessing it.**"
      ],
      "metadata": {
        "id": "dPun6RLF6diz"
      }
    },
    {
      "cell_type": "code",
      "source": [
        "page(\"localtunnel\")"
      ],
      "metadata": {
        "id": "lNt7eCFr5IyL"
      },
      "execution_count": null,
      "outputs": []
    },
    {
      "cell_type": "markdown",
      "source": [
        "What is happening on your computer when you request to view the URL. <br><br>\n",
        "\n",
        "For example: URL: https://busy-carrots-own-35-245-90-0.loca.lt"
      ],
      "metadata": {
        "id": "n8By_LP5-sT7"
      }
    },
    {
      "cell_type": "code",
      "source": [
        "page(\"Your localtunnel\")"
      ],
      "metadata": {
        "id": "gNxwpfTf5MEG"
      },
      "execution_count": null,
      "outputs": []
    },
    {
      "cell_type": "markdown",
      "source": [
        "https://colab.research.google.com/github/mrm8488/shared_colab_notebooks/blob/master/Create_streamlit_app.ipynb#scrollTo=XTGAizLhOIgC"
      ],
      "metadata": {
        "id": "bF4e2jTzdRCA"
      }
    },
    {
      "cell_type": "markdown",
      "source": [
        "https://docs.streamlit.io/library/api-reference"
      ],
      "metadata": {
        "id": "LAv-CsTmptAb"
      }
    },
    {
      "cell_type": "code",
      "source": [
        "!pip install --upgrade streamlit -q"
      ],
      "metadata": {
        "id": "C6SsRIY_LOef"
      },
      "execution_count": null,
      "outputs": []
    },
    {
      "cell_type": "code",
      "execution_count": null,
      "metadata": {
        "id": "FqS-9FauLDZg"
      },
      "outputs": [],
      "source": [
        "!npm install localtunnel"
      ]
    },
    {
      "cell_type": "markdown",
      "source": [
        "# **Using Streamlit**"
      ],
      "metadata": {
        "id": "1vzrSrhHw_qz"
      }
    },
    {
      "cell_type": "markdown",
      "source": [
        "\n",
        "\n",
        "---\n",
        "\n"
      ],
      "metadata": {
        "id": "Qid4HiqZvOT7"
      }
    },
    {
      "cell_type": "markdown",
      "source": [
        "# Example of a Basic Page<br>\n",
        "Adding a title to the page"
      ],
      "metadata": {
        "id": "i6lnxTE7xf_Q"
      }
    },
    {
      "cell_type": "markdown",
      "source": [
        "1. Write code to create the page. <br>\n",
        "This is a simple page, all it has is a title."
      ],
      "metadata": {
        "id": "irVokOv2sn5Z"
      }
    },
    {
      "cell_type": "code",
      "source": [
        "#below is the name of the app that creates the page\n",
        "%%writefile app2.py\n",
        "\n",
        "#The import statement must be in the same code cell as the app\n",
        "import streamlit as st\n",
        "\n",
        "# Title of the web page\n",
        "nameString = \"Welcome to Streamlit\" \n",
        "st.title(nameString)"
      ],
      "metadata": {
        "id": "MplLvfqspHpb"
      },
      "execution_count": null,
      "outputs": []
    },
    {
      "cell_type": "markdown",
      "source": [
        "2. Run the app you created. <br>\n",
        "The following code will run your app."
      ],
      "metadata": {
        "id": "C8iUCjaKszbA"
      }
    },
    {
      "cell_type": "code",
      "source": [
        "!streamlit run /content/app2.py &>/content/logs.txt &"
      ],
      "metadata": {
        "id": "zaf-iBRgpXCB"
      },
      "execution_count": null,
      "outputs": []
    },
    {
      "cell_type": "markdown",
      "source": [
        "3. Run your page on your machine using a localtunnel. <br>\n",
        "We are using port 8501 on your computer. <br>\n",
        "The odds are good you do not have anything else running on this port. "
      ],
      "metadata": {
        "id": "u9vgw-rMtJuN"
      }
    },
    {
      "cell_type": "markdown",
      "source": [
        "NPX is part of the Node Package Manager (NPM)<br>\n",
        "It is an npm package runner that can execute any package that you want from the npm registry without even installing that package. "
      ],
      "metadata": {
        "id": "SELB-1Rt_WQf"
      }
    },
    {
      "cell_type": "code",
      "source": [
        "!npx localtunnel --port 8501"
      ],
      "metadata": {
        "id": "fjs3DgWIpZlc"
      },
      "execution_count": null,
      "outputs": []
    },
    {
      "cell_type": "markdown",
      "source": [
        "4. A URL is created. Click on this URL to go to your webpage.<br>\n",
        "Notice it creates a secure https for all localtunnels. \n"
      ],
      "metadata": {
        "id": "Jz7Qkp2RuERL"
      }
    },
    {
      "cell_type": "markdown",
      "source": [
        "**Assignment 1:**<br>\n",
        "Change the title of the page and view it using the localtunnel"
      ],
      "metadata": {
        "id": "GadAsieTpJcv"
      }
    }
  ]
}