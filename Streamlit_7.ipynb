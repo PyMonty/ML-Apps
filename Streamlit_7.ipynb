{
  "nbformat": 4,
  "nbformat_minor": 0,
  "metadata": {
    "colab": {
      "private_outputs": true,
      "provenance": [],
      "authorship_tag": "ABX9TyMJYfIqC9xIxtaqn7i2VSGR",
      "include_colab_link": true
    },
    "kernelspec": {
      "name": "python3",
      "display_name": "Python 3"
    },
    "language_info": {
      "name": "python"
    }
  },
  "cells": [
    {
      "cell_type": "markdown",
      "metadata": {
        "id": "view-in-github",
        "colab_type": "text"
      },
      "source": [
        "<a href=\"https://colab.research.google.com/github/cagBRT/ML-Apps/blob/main/Streamlit_7.ipynb\" target=\"_parent\"><img src=\"https://colab.research.google.com/assets/colab-badge.svg\" alt=\"Open In Colab\"/></a>"
      ]
    },
    {
      "cell_type": "markdown",
      "source": [
        "In this notebook you work with layout containers. <br>\n",
        "Layout containers make it somewhat easier to organize the pages of your apps. <br>\n",
        "They also make your page more responsive to changes in screen size. For example, using containers makes it easier for your app to display on a cell phone as well and as a laptop or desktop. \n"
      ],
      "metadata": {
        "id": "xdUvbtpKxcRc"
      }
    },
    {
      "cell_type": "markdown",
      "source": [
        "https://blog.streamlit.io/introducing-new-layout-options-for-streamlit/"
      ],
      "metadata": {
        "id": "kPSiT_GNyPkC"
      }
    },
    {
      "cell_type": "code",
      "source": [
        "# Clone the entire repo.\n",
        "!git clone -l -s https://github.com/cagBRT/Intro-to-Programming-with-Python.git"
      ],
      "metadata": {
        "id": "MPnRnGQDzdup"
      },
      "execution_count": null,
      "outputs": []
    },
    {
      "cell_type": "code",
      "source": [
        "!pip install --upgrade streamlit -q"
      ],
      "metadata": {
        "id": "C6SsRIY_LOef"
      },
      "execution_count": null,
      "outputs": []
    },
    {
      "cell_type": "code",
      "execution_count": null,
      "metadata": {
        "id": "FqS-9FauLDZg"
      },
      "outputs": [],
      "source": [
        "!npm install localtunnel"
      ]
    },
    {
      "cell_type": "code",
      "source": [
        "%%writefile app6.py\n",
        "import streamlit as st\n",
        "import pandas as pd\n",
        "import numpy as np\n",
        "import altair as alt\n",
        "\n",
        "# Title of the web page\n",
        "nameString = \"Layouts and Containers\" \n",
        "st.title(nameString)\n",
        "\n",
        "col1, col2, col3 = st.columns(3)\n",
        "\n",
        "with col1:\n",
        "   st.header(\"A cat\")\n",
        "   st.image(\"https://static.streamlit.io/examples/cat.jpg\")\n",
        "   col1_name = \"I love cats\" \n",
        "   st.text(col1_name)\n",
        "\n",
        "with col2:\n",
        "   st.header(\"A dog\")\n",
        "   st.image(\"https://static.streamlit.io/examples/dog.jpg\")\n",
        "   col2_name = \"I love dogs\" \n",
        "   st.text(col2_name)\n",
        "with col3:\n",
        "   st.header(\"An owl\")\n",
        "   st.image(\"https://static.streamlit.io/examples/owl.jpg\")\n",
        "   col3_name = \"I love owls\" \n",
        "   st.text(col3_name)"
      ],
      "metadata": {
        "id": "xm9eU1nkNDg1"
      },
      "execution_count": null,
      "outputs": []
    },
    {
      "cell_type": "code",
      "source": [
        "!streamlit run /content/app6.py &>/content/logs.txt &"
      ],
      "metadata": {
        "id": "fEI7KZKANOoV"
      },
      "execution_count": null,
      "outputs": []
    },
    {
      "cell_type": "code",
      "source": [
        "!npx localtunnel --port 8501"
      ],
      "metadata": {
        "id": "9Et2tCe8NS77"
      },
      "execution_count": null,
      "outputs": []
    },
    {
      "cell_type": "markdown",
      "source": [
        "**Assignment**<br>\n",
        "Create an app with 4 columns about machine learning. <br>\n",
        "Include an image and some text in each column"
      ],
      "metadata": {
        "id": "iKnOwRYtxM7i"
      }
    }
  ]
}